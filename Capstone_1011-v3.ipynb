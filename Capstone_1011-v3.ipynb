{
 "cells": [
  {
   "cell_type": "markdown",
   "metadata": {},
   "source": [
    "## Data Analysis Project"
   ]
  },
  {
   "cell_type": "code",
   "execution_count": 1,
   "metadata": {},
   "outputs": [],
   "source": [
    "#Imports\n",
    "import numpy as np\n",
    "import pandas as pd\n",
    "import pandas_profiling"
   ]
  },
  {
   "cell_type": "code",
   "execution_count": 2,
   "metadata": {},
   "outputs": [],
   "source": [
    "#!pip install mysql-connector-python\n",
    "\n",
    "import mysql.connector\n",
    "from mysql.connector import Error\n",
    "\n",
    "def getrecords_from_db_to_df(query):\n",
    "    try:\n",
    "        connection = mysql.connector.connect(host='cpanel.insaid.co',\n",
    "                                             database='Capstone1',\n",
    "                                             user='student',\n",
    "                                             password='student')\n",
    "        if connection.is_connected():\n",
    "            db_Info = connection.get_server_info()\n",
    "            print(\"Connected to MySQL Server version \", db_Info)\n",
    "            df =  pd.read_sql_query(query, connection)\n",
    "            #record = cursor.fetchone()\n",
    "            print(\"output is done\")\n",
    "            return  df\n",
    "    except Error as e:\n",
    "        print(\"Error while connecting to MySQL\", e)\n",
    "    finally:\n",
    "        if (connection.is_connected()):\n",
    "            connection.close()\n",
    "            print(\"MySQL connection is closed\")"
   ]
  },
  {
   "cell_type": "code",
   "execution_count": 3,
   "metadata": {},
   "outputs": [
    {
     "name": "stdout",
     "output_type": "stream",
     "text": [
      "Connected to MySQL Server version  5.6.47-cll-lve\n",
      "output is done\n",
      "MySQL connection is closed\n"
     ]
    }
   ],
   "source": [
    "query = \"select * from gender_age_train\"\n",
    "df_gender_age = getrecords_from_db_to_df(query)"
   ]
  },
  {
   "cell_type": "code",
   "execution_count": 4,
   "metadata": {},
   "outputs": [
    {
     "name": "stdout",
     "output_type": "stream",
     "text": [
      "Connected to MySQL Server version  5.6.47-cll-lve\n",
      "output is done\n",
      "MySQL connection is closed\n"
     ]
    }
   ],
   "source": [
    "query = \"select * from phone_brand_device_model\"\n",
    "df_phone_brand_device_model = getrecords_from_db_to_df(query)"
   ]
  },
  {
   "cell_type": "markdown",
   "metadata": {},
   "source": [
    "## Data Analysis\n"
   ]
  },
  {
   "cell_type": "code",
   "execution_count": 5,
   "metadata": {},
   "outputs": [
    {
     "data": {
      "text/html": [
       "<div>\n",
       "<style scoped>\n",
       "    .dataframe tbody tr th:only-of-type {\n",
       "        vertical-align: middle;\n",
       "    }\n",
       "\n",
       "    .dataframe tbody tr th {\n",
       "        vertical-align: top;\n",
       "    }\n",
       "\n",
       "    .dataframe thead th {\n",
       "        text-align: right;\n",
       "    }\n",
       "</style>\n",
       "<table border=\"1\" class=\"dataframe\">\n",
       "  <thead>\n",
       "    <tr style=\"text-align: right;\">\n",
       "      <th></th>\n",
       "      <th>event_id</th>\n",
       "      <th>device_id</th>\n",
       "      <th>timestamp</th>\n",
       "      <th>longitude</th>\n",
       "      <th>latitude</th>\n",
       "      <th>city</th>\n",
       "      <th>state</th>\n",
       "    </tr>\n",
       "  </thead>\n",
       "  <tbody>\n",
       "    <tr>\n",
       "      <th>0</th>\n",
       "      <td>2765368</td>\n",
       "      <td>2.973348e+18</td>\n",
       "      <td>2016-05-07 22:52:05</td>\n",
       "      <td>77.225676</td>\n",
       "      <td>28.730140</td>\n",
       "      <td>Delhi</td>\n",
       "      <td>Delhi</td>\n",
       "    </tr>\n",
       "    <tr>\n",
       "      <th>1</th>\n",
       "      <td>2955066</td>\n",
       "      <td>4.734221e+18</td>\n",
       "      <td>2016-05-01 20:44:16</td>\n",
       "      <td>88.388361</td>\n",
       "      <td>22.660325</td>\n",
       "      <td>Calcutta</td>\n",
       "      <td>WestBengal</td>\n",
       "    </tr>\n",
       "    <tr>\n",
       "      <th>2</th>\n",
       "      <td>605968</td>\n",
       "      <td>-3.264500e+18</td>\n",
       "      <td>2016-05-02 14:23:04</td>\n",
       "      <td>77.256809</td>\n",
       "      <td>28.757906</td>\n",
       "      <td>Delhi</td>\n",
       "      <td>Delhi</td>\n",
       "    </tr>\n",
       "    <tr>\n",
       "      <th>3</th>\n",
       "      <td>448114</td>\n",
       "      <td>5.731369e+18</td>\n",
       "      <td>2016-05-03 13:21:16</td>\n",
       "      <td>80.343613</td>\n",
       "      <td>13.153332</td>\n",
       "      <td>Chennai</td>\n",
       "      <td>TamilNadu</td>\n",
       "    </tr>\n",
       "    <tr>\n",
       "      <th>4</th>\n",
       "      <td>665740</td>\n",
       "      <td>3.388880e+17</td>\n",
       "      <td>2016-05-06 03:51:05</td>\n",
       "      <td>85.997745</td>\n",
       "      <td>23.842609</td>\n",
       "      <td>Bokaro</td>\n",
       "      <td>Jharkhand</td>\n",
       "    </tr>\n",
       "    <tr>\n",
       "      <th>5</th>\n",
       "      <td>1078723</td>\n",
       "      <td>-5.124242e+17</td>\n",
       "      <td>2016-05-02 02:21:20</td>\n",
       "      <td>83.398244</td>\n",
       "      <td>17.768149</td>\n",
       "      <td>Visakhapatnam</td>\n",
       "      <td>AndhraPradesh</td>\n",
       "    </tr>\n",
       "    <tr>\n",
       "      <th>6</th>\n",
       "      <td>2948755</td>\n",
       "      <td>5.536513e+18</td>\n",
       "      <td>2016-05-03 16:20:14</td>\n",
       "      <td>80.359796</td>\n",
       "      <td>13.128174</td>\n",
       "      <td>Chennai</td>\n",
       "      <td>TamilNadu</td>\n",
       "    </tr>\n",
       "    <tr>\n",
       "      <th>7</th>\n",
       "      <td>280014</td>\n",
       "      <td>-8.879644e+18</td>\n",
       "      <td>2016-05-05 13:06:01</td>\n",
       "      <td>78.155397</td>\n",
       "      <td>16.390327</td>\n",
       "      <td>Wanparti</td>\n",
       "      <td>AndhraPradesh</td>\n",
       "    </tr>\n",
       "    <tr>\n",
       "      <th>8</th>\n",
       "      <td>2309828</td>\n",
       "      <td>3.020769e+18</td>\n",
       "      <td>2016-05-04 09:24:50</td>\n",
       "      <td>77.263922</td>\n",
       "      <td>28.757914</td>\n",
       "      <td>Delhi</td>\n",
       "      <td>Delhi</td>\n",
       "    </tr>\n",
       "    <tr>\n",
       "      <th>9</th>\n",
       "      <td>720049</td>\n",
       "      <td>4.928556e+18</td>\n",
       "      <td>2016-05-06 19:00:52</td>\n",
       "      <td>72.844795</td>\n",
       "      <td>18.974929</td>\n",
       "      <td>Mumbai</td>\n",
       "      <td>Maharashtra</td>\n",
       "    </tr>\n",
       "  </tbody>\n",
       "</table>\n",
       "</div>"
      ],
      "text/plain": [
       "   event_id     device_id            timestamp  longitude   latitude  \\\n",
       "0   2765368  2.973348e+18  2016-05-07 22:52:05  77.225676  28.730140   \n",
       "1   2955066  4.734221e+18  2016-05-01 20:44:16  88.388361  22.660325   \n",
       "2    605968 -3.264500e+18  2016-05-02 14:23:04  77.256809  28.757906   \n",
       "3    448114  5.731369e+18  2016-05-03 13:21:16  80.343613  13.153332   \n",
       "4    665740  3.388880e+17  2016-05-06 03:51:05  85.997745  23.842609   \n",
       "5   1078723 -5.124242e+17  2016-05-02 02:21:20  83.398244  17.768149   \n",
       "6   2948755  5.536513e+18  2016-05-03 16:20:14  80.359796  13.128174   \n",
       "7    280014 -8.879644e+18  2016-05-05 13:06:01  78.155397  16.390327   \n",
       "8   2309828  3.020769e+18  2016-05-04 09:24:50  77.263922  28.757914   \n",
       "9    720049  4.928556e+18  2016-05-06 19:00:52  72.844795  18.974929   \n",
       "\n",
       "            city          state  \n",
       "0          Delhi          Delhi  \n",
       "1       Calcutta     WestBengal  \n",
       "2          Delhi          Delhi  \n",
       "3        Chennai      TamilNadu  \n",
       "4         Bokaro      Jharkhand  \n",
       "5  Visakhapatnam  AndhraPradesh  \n",
       "6        Chennai      TamilNadu  \n",
       "7       Wanparti  AndhraPradesh  \n",
       "8          Delhi          Delhi  \n",
       "9         Mumbai    Maharashtra  "
      ]
     },
     "execution_count": 5,
     "metadata": {},
     "output_type": "execute_result"
    }
   ],
   "source": [
    "df_events = pd.read_csv('.\\events_data.csv')\n",
    "df_events.head(10)"
   ]
  },
  {
   "cell_type": "code",
   "execution_count": 6,
   "metadata": {},
   "outputs": [
    {
     "data": {
      "text/plain": [
       "(3252950, 7)"
      ]
     },
     "execution_count": 6,
     "metadata": {},
     "output_type": "execute_result"
    }
   ],
   "source": [
    "df_events.shape"
   ]
  },
  {
   "cell_type": "code",
   "execution_count": 7,
   "metadata": {},
   "outputs": [
    {
     "data": {
      "text/plain": [
       "event_id       0\n",
       "device_id    453\n",
       "timestamp      0\n",
       "longitude    423\n",
       "latitude     423\n",
       "city           0\n",
       "state        377\n",
       "dtype: int64"
      ]
     },
     "execution_count": 7,
     "metadata": {},
     "output_type": "execute_result"
    }
   ],
   "source": [
    "#Find the Missing Values\n",
    "df_events.isnull().sum()"
   ]
  },
  {
   "cell_type": "code",
   "execution_count": 8,
   "metadata": {},
   "outputs": [
    {
     "data": {
      "application/vnd.jupyter.widget-view+json": {
       "model_id": "a52206c5048f42bc9f6e20dc76a74a93",
       "version_major": 2,
       "version_minor": 0
      },
      "text/plain": [
       "HBox(children=(FloatProgress(value=0.0, description='variables', max=7.0, style=ProgressStyle(description_widt…"
      ]
     },
     "metadata": {},
     "output_type": "display_data"
    },
    {
     "name": "stdout",
     "output_type": "stream",
     "text": [
      "\n"
     ]
    },
    {
     "data": {
      "application/vnd.jupyter.widget-view+json": {
       "model_id": "fad5598d94bd43fd927c90aaae91c77a",
       "version_major": 2,
       "version_minor": 0
      },
      "text/plain": [
       "HBox(children=(FloatProgress(value=0.0, description='table', max=1.0, style=ProgressStyle(description_width='i…"
      ]
     },
     "metadata": {},
     "output_type": "display_data"
    },
    {
     "name": "stdout",
     "output_type": "stream",
     "text": [
      "\n"
     ]
    },
    {
     "data": {
      "application/vnd.jupyter.widget-view+json": {
       "model_id": "6d06ba083db34d6690c9a2a515f94290",
       "version_major": 2,
       "version_minor": 0
      },
      "text/plain": [
       "HBox(children=(FloatProgress(value=0.0, description='warnings', max=3.0, style=ProgressStyle(description_width…"
      ]
     },
     "metadata": {},
     "output_type": "display_data"
    },
    {
     "name": "stdout",
     "output_type": "stream",
     "text": [
      "\n"
     ]
    },
    {
     "data": {
      "application/vnd.jupyter.widget-view+json": {
       "model_id": "3f94c7bca4dd4a749dd982a9b0dbd10f",
       "version_major": 2,
       "version_minor": 0
      },
      "text/plain": [
       "HBox(children=(FloatProgress(value=0.0, description='package', max=1.0, style=ProgressStyle(description_width=…"
      ]
     },
     "metadata": {},
     "output_type": "display_data"
    },
    {
     "name": "stdout",
     "output_type": "stream",
     "text": [
      "\n"
     ]
    },
    {
     "data": {
      "application/vnd.jupyter.widget-view+json": {
       "model_id": "11ab04875f1c4256ae170e7cab6b5f47",
       "version_major": 2,
       "version_minor": 0
      },
      "text/plain": [
       "HBox(children=(FloatProgress(value=0.0, description='build report structure', max=1.0, style=ProgressStyle(des…"
      ]
     },
     "metadata": {},
     "output_type": "display_data"
    },
    {
     "name": "stdout",
     "output_type": "stream",
     "text": [
      "\n"
     ]
    }
   ],
   "source": [
    "#pre profiling to get insights\n",
    "#profile_events = pandas_profiling.ProfileReport(df_events, minimal = True)\n",
    "#profile_events.to_file(\"events_pre_profiling.html\")"
   ]
  },
  {
   "cell_type": "code",
   "execution_count": 8,
   "metadata": {},
   "outputs": [
    {
     "data": {
      "text/html": [
       "<div>\n",
       "<style scoped>\n",
       "    .dataframe tbody tr th:only-of-type {\n",
       "        vertical-align: middle;\n",
       "    }\n",
       "\n",
       "    .dataframe tbody tr th {\n",
       "        vertical-align: top;\n",
       "    }\n",
       "\n",
       "    .dataframe thead th {\n",
       "        text-align: right;\n",
       "    }\n",
       "</style>\n",
       "<table border=\"1\" class=\"dataframe\">\n",
       "  <thead>\n",
       "    <tr style=\"text-align: right;\">\n",
       "      <th></th>\n",
       "      <th>device_id</th>\n",
       "      <th>gender</th>\n",
       "      <th>age</th>\n",
       "      <th>group</th>\n",
       "    </tr>\n",
       "  </thead>\n",
       "  <tbody>\n",
       "    <tr>\n",
       "      <th>0</th>\n",
       "      <td>-8076087639492063270</td>\n",
       "      <td>M</td>\n",
       "      <td>35</td>\n",
       "      <td>M32-38</td>\n",
       "    </tr>\n",
       "    <tr>\n",
       "      <th>1</th>\n",
       "      <td>-2897161552818060146</td>\n",
       "      <td>M</td>\n",
       "      <td>35</td>\n",
       "      <td>M32-38</td>\n",
       "    </tr>\n",
       "    <tr>\n",
       "      <th>2</th>\n",
       "      <td>-8260683887967679142</td>\n",
       "      <td>M</td>\n",
       "      <td>35</td>\n",
       "      <td>M32-38</td>\n",
       "    </tr>\n",
       "    <tr>\n",
       "      <th>3</th>\n",
       "      <td>-4938849341048082022</td>\n",
       "      <td>M</td>\n",
       "      <td>30</td>\n",
       "      <td>M29-31</td>\n",
       "    </tr>\n",
       "    <tr>\n",
       "      <th>4</th>\n",
       "      <td>245133531816851882</td>\n",
       "      <td>M</td>\n",
       "      <td>30</td>\n",
       "      <td>M29-31</td>\n",
       "    </tr>\n",
       "    <tr>\n",
       "      <th>5</th>\n",
       "      <td>-1297074871525174196</td>\n",
       "      <td>F</td>\n",
       "      <td>24</td>\n",
       "      <td>F24-26</td>\n",
       "    </tr>\n",
       "    <tr>\n",
       "      <th>6</th>\n",
       "      <td>236877999787307864</td>\n",
       "      <td>M</td>\n",
       "      <td>36</td>\n",
       "      <td>M32-38</td>\n",
       "    </tr>\n",
       "    <tr>\n",
       "      <th>7</th>\n",
       "      <td>-8098239495777311881</td>\n",
       "      <td>M</td>\n",
       "      <td>38</td>\n",
       "      <td>M32-38</td>\n",
       "    </tr>\n",
       "    <tr>\n",
       "      <th>8</th>\n",
       "      <td>176515041953473526</td>\n",
       "      <td>M</td>\n",
       "      <td>33</td>\n",
       "      <td>M32-38</td>\n",
       "    </tr>\n",
       "    <tr>\n",
       "      <th>9</th>\n",
       "      <td>1596610250680140042</td>\n",
       "      <td>F</td>\n",
       "      <td>36</td>\n",
       "      <td>F33-42</td>\n",
       "    </tr>\n",
       "  </tbody>\n",
       "</table>\n",
       "</div>"
      ],
      "text/plain": [
       "             device_id gender  age   group\n",
       "0 -8076087639492063270      M   35  M32-38\n",
       "1 -2897161552818060146      M   35  M32-38\n",
       "2 -8260683887967679142      M   35  M32-38\n",
       "3 -4938849341048082022      M   30  M29-31\n",
       "4   245133531816851882      M   30  M29-31\n",
       "5 -1297074871525174196      F   24  F24-26\n",
       "6   236877999787307864      M   36  M32-38\n",
       "7 -8098239495777311881      M   38  M32-38\n",
       "8   176515041953473526      M   33  M32-38\n",
       "9  1596610250680140042      F   36  F33-42"
      ]
     },
     "execution_count": 8,
     "metadata": {},
     "output_type": "execute_result"
    }
   ],
   "source": [
    "df_gender_age.head(10)"
   ]
  },
  {
   "cell_type": "code",
   "execution_count": 9,
   "metadata": {},
   "outputs": [
    {
     "name": "stdout",
     "output_type": "stream",
     "text": [
      "<class 'pandas.core.frame.DataFrame'>\n",
      "RangeIndex: 74645 entries, 0 to 74644\n",
      "Data columns (total 4 columns):\n",
      "device_id    74645 non-null int64\n",
      "gender       74645 non-null object\n",
      "age          74645 non-null int64\n",
      "group        74645 non-null object\n",
      "dtypes: int64(2), object(2)\n",
      "memory usage: 2.3+ MB\n"
     ]
    }
   ],
   "source": [
    "df_gender_age.info()"
   ]
  },
  {
   "cell_type": "code",
   "execution_count": 11,
   "metadata": {},
   "outputs": [
    {
     "data": {
      "application/vnd.jupyter.widget-view+json": {
       "model_id": "ea7dbd02e900479b8d78d585d4b2cb74",
       "version_major": 2,
       "version_minor": 0
      },
      "text/plain": [
       "HBox(children=(FloatProgress(value=0.0, description='variables', max=4.0, style=ProgressStyle(description_widt…"
      ]
     },
     "metadata": {},
     "output_type": "display_data"
    },
    {
     "name": "stderr",
     "output_type": "stream",
     "text": [
      "c:\\users\\oye\\appdata\\local\\programs\\python\\python37\\lib\\site-packages\\pandas_profiling\\model\\describe.py:79: RuntimeWarning: overflow encountered in longlong_scalars\n",
      "  stats[\"range\"] = stats[\"max\"] - stats[\"min\"]\n"
     ]
    },
    {
     "name": "stdout",
     "output_type": "stream",
     "text": [
      "\n"
     ]
    },
    {
     "data": {
      "application/vnd.jupyter.widget-view+json": {
       "model_id": "e1b2d9dc698647ae8382f0beced6b6a9",
       "version_major": 2,
       "version_minor": 0
      },
      "text/plain": [
       "HBox(children=(FloatProgress(value=0.0, description='table', max=1.0, style=ProgressStyle(description_width='i…"
      ]
     },
     "metadata": {},
     "output_type": "display_data"
    },
    {
     "name": "stdout",
     "output_type": "stream",
     "text": [
      "\n"
     ]
    },
    {
     "data": {
      "application/vnd.jupyter.widget-view+json": {
       "model_id": "6a831bd8cad54042a69886407a6e1e7a",
       "version_major": 2,
       "version_minor": 0
      },
      "text/plain": [
       "HBox(children=(FloatProgress(value=0.0, description='warnings', max=3.0, style=ProgressStyle(description_width…"
      ]
     },
     "metadata": {},
     "output_type": "display_data"
    },
    {
     "name": "stdout",
     "output_type": "stream",
     "text": [
      "\n"
     ]
    },
    {
     "data": {
      "application/vnd.jupyter.widget-view+json": {
       "model_id": "c79c49eee9ea477790e26c0584e13c3f",
       "version_major": 2,
       "version_minor": 0
      },
      "text/plain": [
       "HBox(children=(FloatProgress(value=0.0, description='package', max=1.0, style=ProgressStyle(description_width=…"
      ]
     },
     "metadata": {},
     "output_type": "display_data"
    },
    {
     "name": "stdout",
     "output_type": "stream",
     "text": [
      "\n"
     ]
    },
    {
     "data": {
      "application/vnd.jupyter.widget-view+json": {
       "model_id": "88cbc15634eb4db68191ab27159f5458",
       "version_major": 2,
       "version_minor": 0
      },
      "text/plain": [
       "HBox(children=(FloatProgress(value=0.0, description='build report structure', max=1.0, style=ProgressStyle(des…"
      ]
     },
     "metadata": {},
     "output_type": "display_data"
    },
    {
     "name": "stdout",
     "output_type": "stream",
     "text": [
      "\n"
     ]
    }
   ],
   "source": [
    "#profile_gender_age = pandas_profiling.ProfileReport(df_gender_age)\n",
    "#profile_gender_age.to_file(\"Gender_Age_pre_profiling.html\")"
   ]
  },
  {
   "cell_type": "code",
   "execution_count": 10,
   "metadata": {},
   "outputs": [
    {
     "data": {
      "text/plain": [
       "(74645, 4)"
      ]
     },
     "execution_count": 10,
     "metadata": {},
     "output_type": "execute_result"
    }
   ],
   "source": [
    "df_gender_age.shape"
   ]
  },
  {
   "cell_type": "code",
   "execution_count": 11,
   "metadata": {},
   "outputs": [
    {
     "data": {
      "text/plain": [
       "device_id    0\n",
       "gender       0\n",
       "age          0\n",
       "group        0\n",
       "dtype: int64"
      ]
     },
     "execution_count": 11,
     "metadata": {},
     "output_type": "execute_result"
    }
   ],
   "source": [
    "df_gender_age.isnull().sum()"
   ]
  },
  {
   "cell_type": "code",
   "execution_count": 12,
   "metadata": {},
   "outputs": [
    {
     "data": {
      "text/html": [
       "<div>\n",
       "<style scoped>\n",
       "    .dataframe tbody tr th:only-of-type {\n",
       "        vertical-align: middle;\n",
       "    }\n",
       "\n",
       "    .dataframe tbody tr th {\n",
       "        vertical-align: top;\n",
       "    }\n",
       "\n",
       "    .dataframe thead th {\n",
       "        text-align: right;\n",
       "    }\n",
       "</style>\n",
       "<table border=\"1\" class=\"dataframe\">\n",
       "  <thead>\n",
       "    <tr style=\"text-align: right;\">\n",
       "      <th></th>\n",
       "      <th>device_id</th>\n",
       "      <th>gender</th>\n",
       "      <th>age</th>\n",
       "      <th>group</th>\n",
       "    </tr>\n",
       "  </thead>\n",
       "  <tbody>\n",
       "    <tr>\n",
       "      <th>0</th>\n",
       "      <td>-8076087639492063270</td>\n",
       "      <td>M</td>\n",
       "      <td>35</td>\n",
       "      <td>M32-38</td>\n",
       "    </tr>\n",
       "    <tr>\n",
       "      <th>1</th>\n",
       "      <td>-2897161552818060146</td>\n",
       "      <td>M</td>\n",
       "      <td>35</td>\n",
       "      <td>M32-38</td>\n",
       "    </tr>\n",
       "    <tr>\n",
       "      <th>2</th>\n",
       "      <td>-8260683887967679142</td>\n",
       "      <td>M</td>\n",
       "      <td>35</td>\n",
       "      <td>M32-38</td>\n",
       "    </tr>\n",
       "    <tr>\n",
       "      <th>3</th>\n",
       "      <td>-4938849341048082022</td>\n",
       "      <td>M</td>\n",
       "      <td>30</td>\n",
       "      <td>M29-31</td>\n",
       "    </tr>\n",
       "    <tr>\n",
       "      <th>4</th>\n",
       "      <td>245133531816851882</td>\n",
       "      <td>M</td>\n",
       "      <td>30</td>\n",
       "      <td>M29-31</td>\n",
       "    </tr>\n",
       "    <tr>\n",
       "      <th>5</th>\n",
       "      <td>-1297074871525174196</td>\n",
       "      <td>F</td>\n",
       "      <td>24</td>\n",
       "      <td>F24-26</td>\n",
       "    </tr>\n",
       "    <tr>\n",
       "      <th>6</th>\n",
       "      <td>236877999787307864</td>\n",
       "      <td>M</td>\n",
       "      <td>36</td>\n",
       "      <td>M32-38</td>\n",
       "    </tr>\n",
       "    <tr>\n",
       "      <th>7</th>\n",
       "      <td>-8098239495777311881</td>\n",
       "      <td>M</td>\n",
       "      <td>38</td>\n",
       "      <td>M32-38</td>\n",
       "    </tr>\n",
       "    <tr>\n",
       "      <th>8</th>\n",
       "      <td>176515041953473526</td>\n",
       "      <td>M</td>\n",
       "      <td>33</td>\n",
       "      <td>M32-38</td>\n",
       "    </tr>\n",
       "    <tr>\n",
       "      <th>9</th>\n",
       "      <td>1596610250680140042</td>\n",
       "      <td>F</td>\n",
       "      <td>36</td>\n",
       "      <td>F33-42</td>\n",
       "    </tr>\n",
       "  </tbody>\n",
       "</table>\n",
       "</div>"
      ],
      "text/plain": [
       "             device_id gender  age   group\n",
       "0 -8076087639492063270      M   35  M32-38\n",
       "1 -2897161552818060146      M   35  M32-38\n",
       "2 -8260683887967679142      M   35  M32-38\n",
       "3 -4938849341048082022      M   30  M29-31\n",
       "4   245133531816851882      M   30  M29-31\n",
       "5 -1297074871525174196      F   24  F24-26\n",
       "6   236877999787307864      M   36  M32-38\n",
       "7 -8098239495777311881      M   38  M32-38\n",
       "8   176515041953473526      M   33  M32-38\n",
       "9  1596610250680140042      F   36  F33-42"
      ]
     },
     "execution_count": 12,
     "metadata": {},
     "output_type": "execute_result"
    }
   ],
   "source": [
    "df_gender_age.head(10)"
   ]
  },
  {
   "cell_type": "code",
   "execution_count": 13,
   "metadata": {},
   "outputs": [
    {
     "data": {
      "text/html": [
       "<div>\n",
       "<style scoped>\n",
       "    .dataframe tbody tr th:only-of-type {\n",
       "        vertical-align: middle;\n",
       "    }\n",
       "\n",
       "    .dataframe tbody tr th {\n",
       "        vertical-align: top;\n",
       "    }\n",
       "\n",
       "    .dataframe thead th {\n",
       "        text-align: right;\n",
       "    }\n",
       "</style>\n",
       "<table border=\"1\" class=\"dataframe\">\n",
       "  <thead>\n",
       "    <tr style=\"text-align: right;\">\n",
       "      <th></th>\n",
       "      <th>device_id</th>\n",
       "      <th>phone_brand</th>\n",
       "      <th>device_model</th>\n",
       "    </tr>\n",
       "  </thead>\n",
       "  <tbody>\n",
       "    <tr>\n",
       "      <th>0</th>\n",
       "      <td>1877775838486905855</td>\n",
       "      <td>vivo</td>\n",
       "      <td>Y13</td>\n",
       "    </tr>\n",
       "    <tr>\n",
       "      <th>1</th>\n",
       "      <td>-3766087376657242966</td>\n",
       "      <td>小米</td>\n",
       "      <td>V183</td>\n",
       "    </tr>\n",
       "    <tr>\n",
       "      <th>2</th>\n",
       "      <td>-6238937574958215831</td>\n",
       "      <td>OPPO</td>\n",
       "      <td>R7s</td>\n",
       "    </tr>\n",
       "    <tr>\n",
       "      <th>3</th>\n",
       "      <td>8973197758510677470</td>\n",
       "      <td>三星</td>\n",
       "      <td>A368t</td>\n",
       "    </tr>\n",
       "    <tr>\n",
       "      <th>4</th>\n",
       "      <td>-2015528097870762664</td>\n",
       "      <td>小米</td>\n",
       "      <td>红米Note2</td>\n",
       "    </tr>\n",
       "    <tr>\n",
       "      <th>5</th>\n",
       "      <td>-8896952452425303597</td>\n",
       "      <td>小米</td>\n",
       "      <td>红米Note3</td>\n",
       "    </tr>\n",
       "    <tr>\n",
       "      <th>6</th>\n",
       "      <td>-2634171391322875113</td>\n",
       "      <td>小米</td>\n",
       "      <td>S5.1</td>\n",
       "    </tr>\n",
       "    <tr>\n",
       "      <th>7</th>\n",
       "      <td>-2526386806972133373</td>\n",
       "      <td>三星</td>\n",
       "      <td>Galaxy Grand Prime</td>\n",
       "    </tr>\n",
       "    <tr>\n",
       "      <th>8</th>\n",
       "      <td>1427934937997164515</td>\n",
       "      <td>小米</td>\n",
       "      <td>MI 2S</td>\n",
       "    </tr>\n",
       "    <tr>\n",
       "      <th>9</th>\n",
       "      <td>2866484947180243791</td>\n",
       "      <td>三星</td>\n",
       "      <td>Galaxy Note 2</td>\n",
       "    </tr>\n",
       "  </tbody>\n",
       "</table>\n",
       "</div>"
      ],
      "text/plain": [
       "             device_id phone_brand        device_model\n",
       "0  1877775838486905855        vivo                 Y13\n",
       "1 -3766087376657242966          小米                V183\n",
       "2 -6238937574958215831        OPPO                 R7s\n",
       "3  8973197758510677470          三星               A368t\n",
       "4 -2015528097870762664          小米             红米Note2\n",
       "5 -8896952452425303597          小米             红米Note3\n",
       "6 -2634171391322875113          小米                S5.1\n",
       "7 -2526386806972133373          三星  Galaxy Grand Prime\n",
       "8  1427934937997164515          小米               MI 2S\n",
       "9  2866484947180243791          三星       Galaxy Note 2"
      ]
     },
     "execution_count": 13,
     "metadata": {},
     "output_type": "execute_result"
    }
   ],
   "source": [
    "df_phone_brand_device_model.head(10)"
   ]
  },
  {
   "cell_type": "code",
   "execution_count": 14,
   "metadata": {},
   "outputs": [
    {
     "data": {
      "text/plain": [
       "(87726, 3)"
      ]
     },
     "execution_count": 14,
     "metadata": {},
     "output_type": "execute_result"
    }
   ],
   "source": [
    "df_phone_brand_device_model.shape"
   ]
  },
  {
   "cell_type": "code",
   "execution_count": 15,
   "metadata": {},
   "outputs": [
    {
     "name": "stdout",
     "output_type": "stream",
     "text": [
      "<class 'pandas.core.frame.DataFrame'>\n",
      "RangeIndex: 87726 entries, 0 to 87725\n",
      "Data columns (total 3 columns):\n",
      "device_id       87726 non-null int64\n",
      "phone_brand     87726 non-null object\n",
      "device_model    87726 non-null object\n",
      "dtypes: int64(1), object(2)\n",
      "memory usage: 2.0+ MB\n"
     ]
    }
   ],
   "source": [
    "df_phone_brand_device_model.info()"
   ]
  },
  {
   "cell_type": "code",
   "execution_count": 16,
   "metadata": {},
   "outputs": [
    {
     "data": {
      "text/html": [
       "<div>\n",
       "<style scoped>\n",
       "    .dataframe tbody tr th:only-of-type {\n",
       "        vertical-align: middle;\n",
       "    }\n",
       "\n",
       "    .dataframe tbody tr th {\n",
       "        vertical-align: top;\n",
       "    }\n",
       "\n",
       "    .dataframe thead th {\n",
       "        text-align: right;\n",
       "    }\n",
       "</style>\n",
       "<table border=\"1\" class=\"dataframe\">\n",
       "  <thead>\n",
       "    <tr style=\"text-align: right;\">\n",
       "      <th></th>\n",
       "      <th>device_id</th>\n",
       "    </tr>\n",
       "  </thead>\n",
       "  <tbody>\n",
       "    <tr>\n",
       "      <th>count</th>\n",
       "      <td>8.772600e+04</td>\n",
       "    </tr>\n",
       "    <tr>\n",
       "      <th>mean</th>\n",
       "      <td>-5.212557e+15</td>\n",
       "    </tr>\n",
       "    <tr>\n",
       "      <th>std</th>\n",
       "      <td>5.330157e+18</td>\n",
       "    </tr>\n",
       "    <tr>\n",
       "      <th>min</th>\n",
       "      <td>-9.223322e+18</td>\n",
       "    </tr>\n",
       "    <tr>\n",
       "      <th>25%</th>\n",
       "      <td>-4.623331e+18</td>\n",
       "    </tr>\n",
       "    <tr>\n",
       "      <th>50%</th>\n",
       "      <td>-3.109802e+16</td>\n",
       "    </tr>\n",
       "    <tr>\n",
       "      <th>75%</th>\n",
       "      <td>4.635194e+18</td>\n",
       "    </tr>\n",
       "    <tr>\n",
       "      <th>max</th>\n",
       "      <td>9.222849e+18</td>\n",
       "    </tr>\n",
       "  </tbody>\n",
       "</table>\n",
       "</div>"
      ],
      "text/plain": [
       "          device_id\n",
       "count  8.772600e+04\n",
       "mean  -5.212557e+15\n",
       "std    5.330157e+18\n",
       "min   -9.223322e+18\n",
       "25%   -4.623331e+18\n",
       "50%   -3.109802e+16\n",
       "75%    4.635194e+18\n",
       "max    9.222849e+18"
      ]
     },
     "execution_count": 16,
     "metadata": {},
     "output_type": "execute_result"
    }
   ],
   "source": [
    "df_phone_brand_device_model.describe()"
   ]
  },
  {
   "cell_type": "code",
   "execution_count": 17,
   "metadata": {},
   "outputs": [
    {
     "data": {
      "text/plain": [
       "device_id       0\n",
       "phone_brand     0\n",
       "device_model    0\n",
       "dtype: int64"
      ]
     },
     "execution_count": 17,
     "metadata": {},
     "output_type": "execute_result"
    }
   ],
   "source": [
    "df_phone_brand_device_model.isnull().sum()"
   ]
  },
  {
   "cell_type": "code",
   "execution_count": 18,
   "metadata": {},
   "outputs": [
    {
     "data": {
      "application/vnd.jupyter.widget-view+json": {
       "model_id": "f602f95f96304360a7b3f98f4d17476c",
       "version_major": 2,
       "version_minor": 0
      },
      "text/plain": [
       "HBox(children=(FloatProgress(value=0.0, description='variables', max=3.0, style=ProgressStyle(description_widt…"
      ]
     },
     "metadata": {},
     "output_type": "display_data"
    },
    {
     "name": "stderr",
     "output_type": "stream",
     "text": [
      "c:\\users\\oye\\appdata\\local\\programs\\python\\python37\\lib\\site-packages\\pandas_profiling\\model\\describe.py:79: RuntimeWarning: overflow encountered in longlong_scalars\n",
      "  stats[\"range\"] = stats[\"max\"] - stats[\"min\"]\n"
     ]
    },
    {
     "name": "stdout",
     "output_type": "stream",
     "text": [
      "\n"
     ]
    },
    {
     "data": {
      "application/vnd.jupyter.widget-view+json": {
       "model_id": "58f537ea47b54e49b39993c324659b3e",
       "version_major": 2,
       "version_minor": 0
      },
      "text/plain": [
       "HBox(children=(FloatProgress(value=0.0, description='correlations', max=6.0, style=ProgressStyle(description_w…"
      ]
     },
     "metadata": {},
     "output_type": "display_data"
    },
    {
     "name": "stdout",
     "output_type": "stream",
     "text": [
      "\n"
     ]
    },
    {
     "data": {
      "application/vnd.jupyter.widget-view+json": {
       "model_id": "b997e2656c0341fd812f3a9f77b2eceb",
       "version_major": 2,
       "version_minor": 0
      },
      "text/plain": [
       "HBox(children=(FloatProgress(value=0.0, description='interactions [continuous]', max=1.0, style=ProgressStyle(…"
      ]
     },
     "metadata": {},
     "output_type": "display_data"
    },
    {
     "name": "stdout",
     "output_type": "stream",
     "text": [
      "\n"
     ]
    },
    {
     "data": {
      "application/vnd.jupyter.widget-view+json": {
       "model_id": "cdace5ce010e4dfa8390e7646fed3a41",
       "version_major": 2,
       "version_minor": 0
      },
      "text/plain": [
       "HBox(children=(FloatProgress(value=0.0, description='table', max=1.0, style=ProgressStyle(description_width='i…"
      ]
     },
     "metadata": {},
     "output_type": "display_data"
    },
    {
     "name": "stdout",
     "output_type": "stream",
     "text": [
      "\n"
     ]
    },
    {
     "data": {
      "application/vnd.jupyter.widget-view+json": {
       "model_id": "b21d7f8695ee47f4848f6973d456faa2",
       "version_major": 2,
       "version_minor": 0
      },
      "text/plain": [
       "HBox(children=(FloatProgress(value=0.0, description='missing', max=2.0, style=ProgressStyle(description_width=…"
      ]
     },
     "metadata": {},
     "output_type": "display_data"
    },
    {
     "name": "stdout",
     "output_type": "stream",
     "text": [
      "\n"
     ]
    },
    {
     "data": {
      "application/vnd.jupyter.widget-view+json": {
       "model_id": "d3ae8f1dea724d9e8eaf4fccaf7651b4",
       "version_major": 2,
       "version_minor": 0
      },
      "text/plain": [
       "HBox(children=(FloatProgress(value=0.0, description='warnings', max=3.0, style=ProgressStyle(description_width…"
      ]
     },
     "metadata": {},
     "output_type": "display_data"
    },
    {
     "name": "stdout",
     "output_type": "stream",
     "text": [
      "\n"
     ]
    },
    {
     "data": {
      "application/vnd.jupyter.widget-view+json": {
       "model_id": "352cd7ba417f494b96e7bd6f477d66d2",
       "version_major": 2,
       "version_minor": 0
      },
      "text/plain": [
       "HBox(children=(FloatProgress(value=0.0, description='package', max=1.0, style=ProgressStyle(description_width=…"
      ]
     },
     "metadata": {},
     "output_type": "display_data"
    },
    {
     "name": "stdout",
     "output_type": "stream",
     "text": [
      "\n"
     ]
    },
    {
     "data": {
      "application/vnd.jupyter.widget-view+json": {
       "model_id": "610e76ba453847f2b772d45dbf83ca6b",
       "version_major": 2,
       "version_minor": 0
      },
      "text/plain": [
       "HBox(children=(FloatProgress(value=0.0, description='build report structure', max=1.0, style=ProgressStyle(des…"
      ]
     },
     "metadata": {},
     "output_type": "display_data"
    },
    {
     "name": "stdout",
     "output_type": "stream",
     "text": [
      "\n"
     ]
    }
   ],
   "source": [
    "profile_phbd = pandas_profiling.ProfileReport(df_phone_brand_device_model)\n",
    "profile_phbd.to_file(\"phone_brand_device_model_pre_profiling.html\")"
   ]
  },
  {
   "cell_type": "code",
   "execution_count": 19,
   "metadata": {},
   "outputs": [],
   "source": [
    "#Replace the chinese values with English values in the \n",
    "\n",
    "lang_mapped_brands = { '华为':'Huawei', '小米':'Xiaomi', \n",
    "                         '三星':'Samsung', '魅族':'Meizu','酷派':'Coolpad',\n",
    "                         '乐视':'LeEco', '联想 ':'Lenovo','奇酷':'Qiku',\n",
    "                         '斐讯':'Feixun','中国移动':'China Mobile',\n",
    "                         '天语':'Amagatarai','至尊宝':'Extreme treasure', \n",
    "                         '欧博信':'Obersin', '优米':'Quality rice',\n",
    "                         '努比亚':'Nubian', '惠普':'HP', \n",
    "                         '尼比鲁':'Nibiru', '美图':'MitO', '乡米':'Xiangmi', '摩托罗拉':'Motorola',\n",
    "                         '锤子':'Meng Mi', '富可视':'InFocus','海信':'Hisense',\n",
    "                         '百立丰':'Bilifeng','一加':'OnePlus', '语信' :'Yuxin', '海尔' :'Haier', \n",
    "                         '酷比':'Coolby', '纽曼':'Newman',\n",
    "                         '波导':'waveguide', '朵唯':'Duowei',\n",
    "                         '聆韵':'Listening rhyme', '酷珀':'Cupper', '爱派尔':'Aipal', '青葱':'scallion',\n",
    "                         '果米':'fruit rice', '华硕':'ASUS', '昂达':'Onda', '艾优尼':'Ayuni',\n",
    "                         '康佳':'Konka', '优购':'Yougo', '邦华':'Banghua', '赛博宇华':'Saibo Yuhua', \n",
    "                         '黑米':'Black Rice', '先锋':'Pioneer', 'E派':'E School', \n",
    "                         '神舟':'Shenzhou', '诺基亚':'Nokia',\n",
    "                         '普耐尔':'Puner', '糖葫芦':'Candied Gourd', '亿通':'Yitong', '欧新':'Ou Xin',\n",
    "                         '米奇':'Mickey', '酷比魔方':'Cube Rubiks Cube', '蓝魔':'Blue Magic', \n",
    "                         '小杨树':'Little Poplar','贝尔丰':'Bell Fung', '糯米':'Glutinous Rice',\n",
    "                         '米歌' :'Mi Ge' , 'E人E本':'E Man E Ben', '西米':'Simi', '大Q':'Big Q',\n",
    "                         '台电':'Taipower', '飞利浦':'Philips', '唯米':'Vimi', '大显':'Da Xian', '长虹':'Changhong',\n",
    "                         '维图':'Vitu','青橙':'Green Orange', '本为':'Originally', '虾米':'Shrimp', \n",
    "                         '夏新':'Xiaxin', '帷幄':'Virgin', '百加':'Baijia', '欧奇':'Ouqi', \n",
    "                         '世纪星':'Century Star', '智镁':'Chi Magnesium',\n",
    "                         '欧比':'Obi', '基伍':'Kivu', '飞秒':'Femtosecond', '德赛':'Desai', \n",
    "                         '易派':'Epai', '谷歌':'Google', '金星数码':'Venus Digital', '广信':'Guangxin', '诺亚信':'Noyaxin',      \n",
    "                         '凯利通':'Bai Mi', '唯比':'Da Ke Cola', '欧沃':'Bao Jie Xun', \n",
    "                         '丰米':'You Yu', '恒宇丰':'Shou Yun', '奥克斯':'Rumi', \n",
    "                         '西门子':'Rigao', '欧乐迪':'Wofengfeng','白米':'Mo Le', \n",
    "                         '大可乐':'Xian Mi', '宝捷讯':'Kelly Pass',\n",
    "                         '优语':'Vibe', '首云':'Ovo', '瑞米':'Fengmi', '瑞高':'Hengyufeng', \n",
    "                         '沃普丰':'Aux', '摩乐':'Siemens', '鲜米':'Oledi'}"
   ]
  },
  {
   "cell_type": "code",
   "execution_count": 20,
   "metadata": {},
   "outputs": [
    {
     "data": {
      "text/plain": [
       "array(['vivo', 'Xiaomi', 'OPPO', 'Samsung', 'Coolpad', 'Lenovo', 'Huawei',\n",
       "       'Qiku', 'Meizu', 'Feixun', 'China Mobile', 'HTC', 'Amagatarai',\n",
       "       'Extreme treasure', 'LG', 'Obersin', 'Quality rice', 'ZUK',\n",
       "       'Nubian', 'HP', 'Nibiru', 'MitO', 'Xiangmi', 'Motorola', '梦米',\n",
       "       'Meng Mi', 'InFocus', 'LeEco', 'Hisense', 'Bilifeng', 'OnePlus',\n",
       "       'Yuxin', 'Haier', 'Coolby', 'Newman', 'waveguide', 'Duowei',\n",
       "       'Listening rhyme', 'TCL', 'Cupper', 'Aipal', 'LOGO', 'scallion',\n",
       "       'fruit rice', 'ASUS', 'Onda', 'Ayuni', 'Konka', 'Yougo', 'Banghua',\n",
       "       'Saibo Yuhua', 'Black Rice', 'Lovme', 'Pioneer', 'E School',\n",
       "       'Shenzhou', 'Nokia', 'Puner', 'Candied Gourd', 'Yitong', 'Ou Xin',\n",
       "       'Mickey', 'Cube Rubiks Cube', 'Blue Magic', 'Little Poplar',\n",
       "       'Bell Fung', 'Glutinous Rice', 'Mi Ge', 'E Man E Ben', 'Simi',\n",
       "       'Big Q', 'Taipower', 'Philips', 'Vimi', 'Da Xian', 'Changhong',\n",
       "       'Vitu', 'Green Orange', 'Originally', 'Shrimp', 'Xiaxin', 'Virgin',\n",
       "       'Baijia', 'SUGAR', 'Ouqi', 'Century Star', 'Chi Magnesium', 'Obi',\n",
       "       'Kivu', 'Femtosecond', 'Desai', 'Epai', 'Google', 'Venus Digital',\n",
       "       'Guangxin', 'Noyaxin', 'MIL', 'Mo Le', 'Xian Mi', 'Kelly Pass',\n",
       "       'Vibe', 'Ovo', 'Fengmi', 'Hengyufeng', 'Aux', 'Siemens', 'Oledi',\n",
       "       'Bai Mi', 'Da Ke Cola', 'Bao Jie Xun', 'You Yu', 'Shou Yun',\n",
       "       'Rumi', 'Rigao', 'Wofengfeng', 'PPTV'], dtype=object)"
      ]
     },
     "execution_count": 20,
     "metadata": {},
     "output_type": "execute_result"
    }
   ],
   "source": [
    "df_ph_brand_model = df_phone_brand_device_model.replace(lang_mapped_brands)\n",
    "#df_new_phbd.to_csv('test.csv')\n",
    "#df_new_phbd['brand'].unique()\n",
    "df_ph_brand_model['phone_brand'].unique()"
   ]
  },
  {
   "cell_type": "code",
   "execution_count": 21,
   "metadata": {},
   "outputs": [
    {
     "data": {
      "text/html": [
       "<div>\n",
       "<style scoped>\n",
       "    .dataframe tbody tr th:only-of-type {\n",
       "        vertical-align: middle;\n",
       "    }\n",
       "\n",
       "    .dataframe tbody tr th {\n",
       "        vertical-align: top;\n",
       "    }\n",
       "\n",
       "    .dataframe thead th {\n",
       "        text-align: right;\n",
       "    }\n",
       "</style>\n",
       "<table border=\"1\" class=\"dataframe\">\n",
       "  <thead>\n",
       "    <tr style=\"text-align: right;\">\n",
       "      <th></th>\n",
       "      <th>phone_brand</th>\n",
       "      <th>Group_Count</th>\n",
       "    </tr>\n",
       "  </thead>\n",
       "  <tbody>\n",
       "    <tr>\n",
       "      <th>0</th>\n",
       "      <td>ASUS</td>\n",
       "      <td>67</td>\n",
       "    </tr>\n",
       "    <tr>\n",
       "      <th>1</th>\n",
       "      <td>Aipal</td>\n",
       "      <td>46</td>\n",
       "    </tr>\n",
       "    <tr>\n",
       "      <th>2</th>\n",
       "      <td>Amagatarai</td>\n",
       "      <td>161</td>\n",
       "    </tr>\n",
       "    <tr>\n",
       "      <th>3</th>\n",
       "      <td>Aux</td>\n",
       "      <td>8</td>\n",
       "    </tr>\n",
       "    <tr>\n",
       "      <th>4</th>\n",
       "      <td>Ayuni</td>\n",
       "      <td>48</td>\n",
       "    </tr>\n",
       "    <tr>\n",
       "      <th>...</th>\n",
       "      <td>...</td>\n",
       "      <td>...</td>\n",
       "    </tr>\n",
       "    <tr>\n",
       "      <th>111</th>\n",
       "      <td>fruit rice</td>\n",
       "      <td>10</td>\n",
       "    </tr>\n",
       "    <tr>\n",
       "      <th>112</th>\n",
       "      <td>scallion</td>\n",
       "      <td>7</td>\n",
       "    </tr>\n",
       "    <tr>\n",
       "      <th>113</th>\n",
       "      <td>vivo</td>\n",
       "      <td>7596</td>\n",
       "    </tr>\n",
       "    <tr>\n",
       "      <th>114</th>\n",
       "      <td>waveguide</td>\n",
       "      <td>44</td>\n",
       "    </tr>\n",
       "    <tr>\n",
       "      <th>115</th>\n",
       "      <td>梦米</td>\n",
       "      <td>52</td>\n",
       "    </tr>\n",
       "  </tbody>\n",
       "</table>\n",
       "<p>116 rows × 2 columns</p>\n",
       "</div>"
      ],
      "text/plain": [
       "    phone_brand  Group_Count\n",
       "0          ASUS           67\n",
       "1         Aipal           46\n",
       "2    Amagatarai          161\n",
       "3           Aux            8\n",
       "4         Ayuni           48\n",
       "..          ...          ...\n",
       "111  fruit rice           10\n",
       "112    scallion            7\n",
       "113        vivo         7596\n",
       "114   waveguide           44\n",
       "115          梦米           52\n",
       "\n",
       "[116 rows x 2 columns]"
      ]
     },
     "execution_count": 21,
     "metadata": {},
     "output_type": "execute_result"
    }
   ],
   "source": [
    "df_new_ph_brand_model = df_ph_brand_model.groupby('phone_brand')\n",
    "pd.DataFrame(df_new_ph_brand_model.size().reset_index(name = \"Group_Count\"))"
   ]
  },
  {
   "cell_type": "code",
   "execution_count": 22,
   "metadata": {},
   "outputs": [
    {
     "data": {
      "text/html": [
       "<div>\n",
       "<style scoped>\n",
       "    .dataframe tbody tr th:only-of-type {\n",
       "        vertical-align: middle;\n",
       "    }\n",
       "\n",
       "    .dataframe tbody tr th {\n",
       "        vertical-align: top;\n",
       "    }\n",
       "\n",
       "    .dataframe thead th {\n",
       "        text-align: right;\n",
       "    }\n",
       "</style>\n",
       "<table border=\"1\" class=\"dataframe\">\n",
       "  <thead>\n",
       "    <tr style=\"text-align: right;\">\n",
       "      <th></th>\n",
       "      <th>device_id</th>\n",
       "      <th>gender</th>\n",
       "      <th>age</th>\n",
       "      <th>group</th>\n",
       "      <th>agegroup_by_name</th>\n",
       "    </tr>\n",
       "  </thead>\n",
       "  <tbody>\n",
       "    <tr>\n",
       "      <th>0</th>\n",
       "      <td>-8076087639492063270</td>\n",
       "      <td>M</td>\n",
       "      <td>35</td>\n",
       "      <td>M32-38</td>\n",
       "      <td>Adult</td>\n",
       "    </tr>\n",
       "    <tr>\n",
       "      <th>1</th>\n",
       "      <td>-2897161552818060146</td>\n",
       "      <td>M</td>\n",
       "      <td>35</td>\n",
       "      <td>M32-38</td>\n",
       "      <td>Adult</td>\n",
       "    </tr>\n",
       "    <tr>\n",
       "      <th>2</th>\n",
       "      <td>-8260683887967679142</td>\n",
       "      <td>M</td>\n",
       "      <td>35</td>\n",
       "      <td>M32-38</td>\n",
       "      <td>Adult</td>\n",
       "    </tr>\n",
       "    <tr>\n",
       "      <th>3</th>\n",
       "      <td>-4938849341048082022</td>\n",
       "      <td>M</td>\n",
       "      <td>30</td>\n",
       "      <td>M29-31</td>\n",
       "      <td>Adult</td>\n",
       "    </tr>\n",
       "    <tr>\n",
       "      <th>4</th>\n",
       "      <td>245133531816851882</td>\n",
       "      <td>M</td>\n",
       "      <td>30</td>\n",
       "      <td>M29-31</td>\n",
       "      <td>Adult</td>\n",
       "    </tr>\n",
       "    <tr>\n",
       "      <th>...</th>\n",
       "      <td>...</td>\n",
       "      <td>...</td>\n",
       "      <td>...</td>\n",
       "      <td>...</td>\n",
       "      <td>...</td>\n",
       "    </tr>\n",
       "    <tr>\n",
       "      <th>74640</th>\n",
       "      <td>4682031842235089751</td>\n",
       "      <td>M</td>\n",
       "      <td>30</td>\n",
       "      <td>M29-31</td>\n",
       "      <td>Adult</td>\n",
       "    </tr>\n",
       "    <tr>\n",
       "      <th>74641</th>\n",
       "      <td>-9178703742877135986</td>\n",
       "      <td>M</td>\n",
       "      <td>30</td>\n",
       "      <td>M29-31</td>\n",
       "      <td>Adult</td>\n",
       "    </tr>\n",
       "    <tr>\n",
       "      <th>74642</th>\n",
       "      <td>180946546684162312</td>\n",
       "      <td>M</td>\n",
       "      <td>20</td>\n",
       "      <td>M22-</td>\n",
       "      <td>youngadult</td>\n",
       "    </tr>\n",
       "    <tr>\n",
       "      <th>74643</th>\n",
       "      <td>1390702386071991851</td>\n",
       "      <td>M</td>\n",
       "      <td>37</td>\n",
       "      <td>M32-38</td>\n",
       "      <td>Adult</td>\n",
       "    </tr>\n",
       "    <tr>\n",
       "      <th>74644</th>\n",
       "      <td>89181010588227347</td>\n",
       "      <td>M</td>\n",
       "      <td>25</td>\n",
       "      <td>M23-26</td>\n",
       "      <td>Adult</td>\n",
       "    </tr>\n",
       "  </tbody>\n",
       "</table>\n",
       "<p>74645 rows × 5 columns</p>\n",
       "</div>"
      ],
      "text/plain": [
       "                 device_id gender  age   group agegroup_by_name\n",
       "0     -8076087639492063270      M   35  M32-38            Adult\n",
       "1     -2897161552818060146      M   35  M32-38            Adult\n",
       "2     -8260683887967679142      M   35  M32-38            Adult\n",
       "3     -4938849341048082022      M   30  M29-31            Adult\n",
       "4       245133531816851882      M   30  M29-31            Adult\n",
       "...                    ...    ...  ...     ...              ...\n",
       "74640  4682031842235089751      M   30  M29-31            Adult\n",
       "74641 -9178703742877135986      M   30  M29-31            Adult\n",
       "74642   180946546684162312      M   20    M22-       youngadult\n",
       "74643  1390702386071991851      M   37  M32-38            Adult\n",
       "74644    89181010588227347      M   25  M23-26            Adult\n",
       "\n",
       "[74645 rows x 5 columns]"
      ]
     },
     "execution_count": 22,
     "metadata": {},
     "output_type": "execute_result"
    }
   ],
   "source": [
    "#classify the age group into features\n",
    "'''\n",
    "0-2 : infant\n",
    "2-12: child\n",
    "13-19: Teenager\n",
    "20-23: young adults\n",
    "24-60: adults\n",
    ">60 : elderly\n",
    "infant, child, adolescent, young adults, adults, elderly\n",
    "\n",
    "'''\n",
    "df_gender_age['agegroup_by_name'] = pd.cut(df_gender_age.age,bins=[0,2,12,19,22, 65,99],\n",
    "                                           labels=['infant','Child', 'teenager','youngadult','Adult','Elderly'])\n",
    "df_gender_age"
   ]
  },
  {
   "cell_type": "code",
   "execution_count": 24,
   "metadata": {},
   "outputs": [],
   "source": [
    "#convert the timestamp to a date in a new column event_date\n",
    "import datetime as dt\n",
    "df_events['Event_Date']=pd.to_datetime(pd.Series(df_events['timestamp']))\n",
    "df_events['Event_Date']=df_events['Event_Date'].dt.date"
   ]
  },
  {
   "cell_type": "code",
   "execution_count": 25,
   "metadata": {},
   "outputs": [
    {
     "data": {
      "text/html": [
       "<div>\n",
       "<style scoped>\n",
       "    .dataframe tbody tr th:only-of-type {\n",
       "        vertical-align: middle;\n",
       "    }\n",
       "\n",
       "    .dataframe tbody tr th {\n",
       "        vertical-align: top;\n",
       "    }\n",
       "\n",
       "    .dataframe thead th {\n",
       "        text-align: right;\n",
       "    }\n",
       "</style>\n",
       "<table border=\"1\" class=\"dataframe\">\n",
       "  <thead>\n",
       "    <tr style=\"text-align: right;\">\n",
       "      <th></th>\n",
       "      <th>event_id</th>\n",
       "      <th>device_id</th>\n",
       "      <th>timestamp</th>\n",
       "      <th>longitude</th>\n",
       "      <th>latitude</th>\n",
       "      <th>city</th>\n",
       "      <th>state</th>\n",
       "      <th>Event_Date</th>\n",
       "    </tr>\n",
       "  </thead>\n",
       "  <tbody>\n",
       "    <tr>\n",
       "      <th>0</th>\n",
       "      <td>2765368</td>\n",
       "      <td>2.973348e+18</td>\n",
       "      <td>2016-05-07 22:52:05</td>\n",
       "      <td>77.225676</td>\n",
       "      <td>28.730140</td>\n",
       "      <td>Delhi</td>\n",
       "      <td>Delhi</td>\n",
       "      <td>2016-05-07</td>\n",
       "    </tr>\n",
       "    <tr>\n",
       "      <th>1</th>\n",
       "      <td>2955066</td>\n",
       "      <td>4.734221e+18</td>\n",
       "      <td>2016-05-01 20:44:16</td>\n",
       "      <td>88.388361</td>\n",
       "      <td>22.660325</td>\n",
       "      <td>Calcutta</td>\n",
       "      <td>WestBengal</td>\n",
       "      <td>2016-05-01</td>\n",
       "    </tr>\n",
       "    <tr>\n",
       "      <th>2</th>\n",
       "      <td>605968</td>\n",
       "      <td>-3.264500e+18</td>\n",
       "      <td>2016-05-02 14:23:04</td>\n",
       "      <td>77.256809</td>\n",
       "      <td>28.757906</td>\n",
       "      <td>Delhi</td>\n",
       "      <td>Delhi</td>\n",
       "      <td>2016-05-02</td>\n",
       "    </tr>\n",
       "    <tr>\n",
       "      <th>3</th>\n",
       "      <td>448114</td>\n",
       "      <td>5.731369e+18</td>\n",
       "      <td>2016-05-03 13:21:16</td>\n",
       "      <td>80.343613</td>\n",
       "      <td>13.153332</td>\n",
       "      <td>Chennai</td>\n",
       "      <td>TamilNadu</td>\n",
       "      <td>2016-05-03</td>\n",
       "    </tr>\n",
       "    <tr>\n",
       "      <th>4</th>\n",
       "      <td>665740</td>\n",
       "      <td>3.388880e+17</td>\n",
       "      <td>2016-05-06 03:51:05</td>\n",
       "      <td>85.997745</td>\n",
       "      <td>23.842609</td>\n",
       "      <td>Bokaro</td>\n",
       "      <td>Jharkhand</td>\n",
       "      <td>2016-05-06</td>\n",
       "    </tr>\n",
       "  </tbody>\n",
       "</table>\n",
       "</div>"
      ],
      "text/plain": [
       "   event_id     device_id            timestamp  longitude   latitude  \\\n",
       "0   2765368  2.973348e+18  2016-05-07 22:52:05  77.225676  28.730140   \n",
       "1   2955066  4.734221e+18  2016-05-01 20:44:16  88.388361  22.660325   \n",
       "2    605968 -3.264500e+18  2016-05-02 14:23:04  77.256809  28.757906   \n",
       "3    448114  5.731369e+18  2016-05-03 13:21:16  80.343613  13.153332   \n",
       "4    665740  3.388880e+17  2016-05-06 03:51:05  85.997745  23.842609   \n",
       "\n",
       "       city       state  Event_Date  \n",
       "0     Delhi       Delhi  2016-05-07  \n",
       "1  Calcutta  WestBengal  2016-05-01  \n",
       "2     Delhi       Delhi  2016-05-02  \n",
       "3   Chennai   TamilNadu  2016-05-03  \n",
       "4    Bokaro   Jharkhand  2016-05-06  "
      ]
     },
     "execution_count": 25,
     "metadata": {},
     "output_type": "execute_result"
    }
   ],
   "source": [
    "df_events.head()"
   ]
  },
  {
   "cell_type": "code",
   "execution_count": 26,
   "metadata": {},
   "outputs": [
    {
     "data": {
      "text/html": [
       "<div>\n",
       "<style scoped>\n",
       "    .dataframe tbody tr th:only-of-type {\n",
       "        vertical-align: middle;\n",
       "    }\n",
       "\n",
       "    .dataframe tbody tr th {\n",
       "        vertical-align: top;\n",
       "    }\n",
       "\n",
       "    .dataframe thead th {\n",
       "        text-align: right;\n",
       "    }\n",
       "</style>\n",
       "<table border=\"1\" class=\"dataframe\">\n",
       "  <thead>\n",
       "    <tr style=\"text-align: right;\">\n",
       "      <th></th>\n",
       "      <th>event_id</th>\n",
       "      <th>device_id</th>\n",
       "      <th>timestamp</th>\n",
       "      <th>longitude</th>\n",
       "      <th>latitude</th>\n",
       "      <th>city</th>\n",
       "      <th>state</th>\n",
       "      <th>Event_Date</th>\n",
       "    </tr>\n",
       "  </thead>\n",
       "  <tbody>\n",
       "    <tr>\n",
       "      <th>0</th>\n",
       "      <td>2765368</td>\n",
       "      <td>2.973348e+18</td>\n",
       "      <td>2016-05-07 22:52:05</td>\n",
       "      <td>77.225676</td>\n",
       "      <td>28.730140</td>\n",
       "      <td>Delhi</td>\n",
       "      <td>Delhi</td>\n",
       "      <td>2016-05-07</td>\n",
       "    </tr>\n",
       "    <tr>\n",
       "      <th>1</th>\n",
       "      <td>2955066</td>\n",
       "      <td>4.734221e+18</td>\n",
       "      <td>2016-05-01 20:44:16</td>\n",
       "      <td>88.388361</td>\n",
       "      <td>22.660325</td>\n",
       "      <td>Calcutta</td>\n",
       "      <td>WestBengal</td>\n",
       "      <td>2016-05-01</td>\n",
       "    </tr>\n",
       "    <tr>\n",
       "      <th>2</th>\n",
       "      <td>605968</td>\n",
       "      <td>3.264500e+18</td>\n",
       "      <td>2016-05-02 14:23:04</td>\n",
       "      <td>77.256809</td>\n",
       "      <td>28.757906</td>\n",
       "      <td>Delhi</td>\n",
       "      <td>Delhi</td>\n",
       "      <td>2016-05-02</td>\n",
       "    </tr>\n",
       "    <tr>\n",
       "      <th>3</th>\n",
       "      <td>448114</td>\n",
       "      <td>5.731369e+18</td>\n",
       "      <td>2016-05-03 13:21:16</td>\n",
       "      <td>80.343613</td>\n",
       "      <td>13.153332</td>\n",
       "      <td>Chennai</td>\n",
       "      <td>TamilNadu</td>\n",
       "      <td>2016-05-03</td>\n",
       "    </tr>\n",
       "    <tr>\n",
       "      <th>4</th>\n",
       "      <td>665740</td>\n",
       "      <td>3.388880e+17</td>\n",
       "      <td>2016-05-06 03:51:05</td>\n",
       "      <td>85.997745</td>\n",
       "      <td>23.842609</td>\n",
       "      <td>Bokaro</td>\n",
       "      <td>Jharkhand</td>\n",
       "      <td>2016-05-06</td>\n",
       "    </tr>\n",
       "  </tbody>\n",
       "</table>\n",
       "</div>"
      ],
      "text/plain": [
       "   event_id     device_id            timestamp  longitude   latitude  \\\n",
       "0   2765368  2.973348e+18  2016-05-07 22:52:05  77.225676  28.730140   \n",
       "1   2955066  4.734221e+18  2016-05-01 20:44:16  88.388361  22.660325   \n",
       "2    605968  3.264500e+18  2016-05-02 14:23:04  77.256809  28.757906   \n",
       "3    448114  5.731369e+18  2016-05-03 13:21:16  80.343613  13.153332   \n",
       "4    665740  3.388880e+17  2016-05-06 03:51:05  85.997745  23.842609   \n",
       "\n",
       "       city       state  Event_Date  \n",
       "0     Delhi       Delhi  2016-05-07  \n",
       "1  Calcutta  WestBengal  2016-05-01  \n",
       "2     Delhi       Delhi  2016-05-02  \n",
       "3   Chennai   TamilNadu  2016-05-03  \n",
       "4    Bokaro   Jharkhand  2016-05-06  "
      ]
     },
     "execution_count": 26,
     "metadata": {},
     "output_type": "execute_result"
    }
   ],
   "source": [
    "df_events['device_id']=df_events.device_id.abs()\n",
    "df_events.head()"
   ]
  },
  {
   "cell_type": "code",
   "execution_count": 33,
   "metadata": {},
   "outputs": [
    {
     "name": "stdout",
     "output_type": "stream",
     "text": [
      "          device_id  longitude   latitude          state\n",
      "2055            NaN  75.882956  22.814519  MadhyaPradesh\n",
      "2931   5.829328e+18  73.851671  18.593313            NaN\n",
      "8015   1.779631e+18        NaN        NaN          Delhi\n",
      "9697   8.790560e+18        NaN        NaN  MadhyaPradesh\n",
      "10949  4.865607e+18        NaN        NaN  AndhraPradesh\n"
     ]
    },
    {
     "data": {
      "text/plain": [
       "device_id    453\n",
       "longitude    423\n",
       "latitude     423\n",
       "state        377\n",
       "dtype: int64"
      ]
     },
     "execution_count": 33,
     "metadata": {},
     "output_type": "execute_result"
    }
   ],
   "source": [
    "null_columns=df_events.columns[df_events.isnull().any()]\n",
    "print(df_events[df_events.isnull().any(axis=1)][null_columns].head())\n",
    "df_events[null_columns].isnull().sum()"
   ]
  },
  {
   "cell_type": "code",
   "execution_count": 127,
   "metadata": {},
   "outputs": [
    {
     "data": {
      "text/plain": [
       "0             Delhi\n",
       "1        WestBengal\n",
       "2             Delhi\n",
       "3         TamilNadu\n",
       "4         Jharkhand\n",
       "5     AndhraPradesh\n",
       "6         TamilNadu\n",
       "7     AndhraPradesh\n",
       "8             Delhi\n",
       "9       Maharashtra\n",
       "10        TamilNadu\n",
       "11      Maharashtra\n",
       "12    AndhraPradesh\n",
       "13            Delhi\n",
       "14        TamilNadu\n",
       "15        TamilNadu\n",
       "16        TamilNadu\n",
       "17            Delhi\n",
       "18            Delhi\n",
       "19        TamilNadu\n",
       "Name: state, dtype: object"
      ]
     },
     "execution_count": 127,
     "metadata": {},
     "output_type": "execute_result"
    }
   ],
   "source": [
    "df_events['state'].head(20)"
   ]
  },
  {
   "cell_type": "code",
   "execution_count": 34,
   "metadata": {},
   "outputs": [],
   "source": [
    "events_null=df_events[df_events.isnull().any(axis=1)]"
   ]
  },
  {
   "cell_type": "code",
   "execution_count": 35,
   "metadata": {},
   "outputs": [],
   "source": [
    "events_state=events_null[events_null['state'].isnull()]"
   ]
  },
  {
   "cell_type": "code",
   "execution_count": 36,
   "metadata": {},
   "outputs": [
    {
     "data": {
      "text/plain": [
       "array(['MadhyaPradesh', nan, 'Delhi', 'AndhraPradesh', 'TamilNadu',\n",
       "       'Maharashtra', 'Rajasthan', 'Punjab', 'Bihar', 'Gujarat'],\n",
       "      dtype=object)"
      ]
     },
     "execution_count": 36,
     "metadata": {},
     "output_type": "execute_result"
    }
   ],
   "source": [
    "events_null['state'].unique()"
   ]
  },
  {
   "cell_type": "code",
   "execution_count": 131,
   "metadata": {},
   "outputs": [],
   "source": [
    "#df_events = \n",
    "#temp = df_events.copy()\n",
    "city_state_dict = { \"Indore\": \"MadhyaPradesh\",\"Visakhapatnam\" : \"AndhraPradesh\", \"Delhi\": \"Delhi\",\n",
    "                    \"Chennai\" : \"TamilNadu\", \"Jaipur\":\"Rajasthan\", \"Gangarampur\":\"WestBengal\", \n",
    "                    \"Arambagh\": \"WestBengal\", \"Channapatna\": \"Karnataka\", \"Pune\": \"Maharashtra\"}\n",
    "\n",
    "for key, value in city_state_dict.items():\n",
    "    df_events.loc[(df_events['city'] == key) \\\n",
    "    & (df_events['state'].isnull()),'state'] = value"
   ]
  },
  {
   "cell_type": "code",
   "execution_count": 172,
   "metadata": {},
   "outputs": [
    {
     "data": {
      "text/plain": [
       "0"
      ]
     },
     "execution_count": 172,
     "metadata": {},
     "output_type": "execute_result"
    }
   ],
   "source": [
    "df_events['state'].isnull().sum()"
   ]
  },
  {
   "cell_type": "code",
   "execution_count": 244,
   "metadata": {},
   "outputs": [
    {
     "data": {
      "text/html": [
       "<div>\n",
       "<style scoped>\n",
       "    .dataframe tbody tr th:only-of-type {\n",
       "        vertical-align: middle;\n",
       "    }\n",
       "\n",
       "    .dataframe tbody tr th {\n",
       "        vertical-align: top;\n",
       "    }\n",
       "\n",
       "    .dataframe thead th {\n",
       "        text-align: right;\n",
       "    }\n",
       "</style>\n",
       "<table border=\"1\" class=\"dataframe\">\n",
       "  <thead>\n",
       "    <tr style=\"text-align: right;\">\n",
       "      <th></th>\n",
       "      <th>event_id</th>\n",
       "      <th>device_id</th>\n",
       "      <th>timestamp</th>\n",
       "      <th>longitude</th>\n",
       "      <th>latitude</th>\n",
       "      <th>city</th>\n",
       "      <th>state</th>\n",
       "      <th>Event_Date</th>\n",
       "    </tr>\n",
       "  </thead>\n",
       "  <tbody>\n",
       "    <tr>\n",
       "      <th>2055</th>\n",
       "      <td>1936567</td>\n",
       "      <td>NaN</td>\n",
       "      <td>2016-05-02 15:27:54</td>\n",
       "      <td>75.882956</td>\n",
       "      <td>22.814519</td>\n",
       "      <td>Indore</td>\n",
       "      <td>MadhyaPradesh</td>\n",
       "      <td>2016-05-02</td>\n",
       "    </tr>\n",
       "    <tr>\n",
       "      <th>26367</th>\n",
       "      <td>2659282</td>\n",
       "      <td>NaN</td>\n",
       "      <td>2016-05-04 14:06:24</td>\n",
       "      <td>75.888487</td>\n",
       "      <td>26.948689</td>\n",
       "      <td>Jaipur</td>\n",
       "      <td>Rajasthan</td>\n",
       "      <td>2016-05-04</td>\n",
       "    </tr>\n",
       "    <tr>\n",
       "      <th>42088</th>\n",
       "      <td>442198</td>\n",
       "      <td>NaN</td>\n",
       "      <td>2016-05-06 09:27:37</td>\n",
       "      <td>75.846007</td>\n",
       "      <td>26.960796</td>\n",
       "      <td>Jaipur</td>\n",
       "      <td>Rajasthan</td>\n",
       "      <td>2016-05-06</td>\n",
       "    </tr>\n",
       "    <tr>\n",
       "      <th>43061</th>\n",
       "      <td>1903648</td>\n",
       "      <td>NaN</td>\n",
       "      <td>2016-05-02 15:41:54</td>\n",
       "      <td>75.923332</td>\n",
       "      <td>22.777781</td>\n",
       "      <td>Indore</td>\n",
       "      <td>MadhyaPradesh</td>\n",
       "      <td>2016-05-02</td>\n",
       "    </tr>\n",
       "    <tr>\n",
       "      <th>44823</th>\n",
       "      <td>3227383</td>\n",
       "      <td>NaN</td>\n",
       "      <td>2016-05-05 08:37:09</td>\n",
       "      <td>75.992551</td>\n",
       "      <td>31.561747</td>\n",
       "      <td>Hoshiarpur</td>\n",
       "      <td>Punjab</td>\n",
       "      <td>2016-05-05</td>\n",
       "    </tr>\n",
       "    <tr>\n",
       "      <th>...</th>\n",
       "      <td>...</td>\n",
       "      <td>...</td>\n",
       "      <td>...</td>\n",
       "      <td>...</td>\n",
       "      <td>...</td>\n",
       "      <td>...</td>\n",
       "      <td>...</td>\n",
       "      <td>...</td>\n",
       "    </tr>\n",
       "    <tr>\n",
       "      <th>3212337</th>\n",
       "      <td>2191286</td>\n",
       "      <td>NaN</td>\n",
       "      <td>2016-05-04 18:16:06</td>\n",
       "      <td>83.357991</td>\n",
       "      <td>17.805195</td>\n",
       "      <td>Visakhapatnam</td>\n",
       "      <td>AndhraPradesh</td>\n",
       "      <td>2016-05-04</td>\n",
       "    </tr>\n",
       "    <tr>\n",
       "      <th>3215120</th>\n",
       "      <td>572054</td>\n",
       "      <td>NaN</td>\n",
       "      <td>2016-05-07 08:48:22</td>\n",
       "      <td>83.371738</td>\n",
       "      <td>17.752819</td>\n",
       "      <td>Visakhapatnam</td>\n",
       "      <td>AndhraPradesh</td>\n",
       "      <td>2016-05-07</td>\n",
       "    </tr>\n",
       "    <tr>\n",
       "      <th>3230115</th>\n",
       "      <td>332451</td>\n",
       "      <td>NaN</td>\n",
       "      <td>2016-05-07 09:01:45</td>\n",
       "      <td>75.992551</td>\n",
       "      <td>31.561747</td>\n",
       "      <td>Hoshiarpur</td>\n",
       "      <td>Punjab</td>\n",
       "      <td>2016-05-07</td>\n",
       "    </tr>\n",
       "    <tr>\n",
       "      <th>3235494</th>\n",
       "      <td>2534073</td>\n",
       "      <td>NaN</td>\n",
       "      <td>2016-05-06 21:07:01</td>\n",
       "      <td>83.371738</td>\n",
       "      <td>17.752819</td>\n",
       "      <td>Visakhapatnam</td>\n",
       "      <td>AndhraPradesh</td>\n",
       "      <td>2016-05-06</td>\n",
       "    </tr>\n",
       "    <tr>\n",
       "      <th>3250939</th>\n",
       "      <td>1622538</td>\n",
       "      <td>NaN</td>\n",
       "      <td>2016-05-06 21:26:10</td>\n",
       "      <td>75.888487</td>\n",
       "      <td>26.948689</td>\n",
       "      <td>Jaipur</td>\n",
       "      <td>Rajasthan</td>\n",
       "      <td>2016-05-06</td>\n",
       "    </tr>\n",
       "  </tbody>\n",
       "</table>\n",
       "<p>453 rows × 8 columns</p>\n",
       "</div>"
      ],
      "text/plain": [
       "         event_id  device_id            timestamp  longitude   latitude  \\\n",
       "2055      1936567        NaN  2016-05-02 15:27:54  75.882956  22.814519   \n",
       "26367     2659282        NaN  2016-05-04 14:06:24  75.888487  26.948689   \n",
       "42088      442198        NaN  2016-05-06 09:27:37  75.846007  26.960796   \n",
       "43061     1903648        NaN  2016-05-02 15:41:54  75.923332  22.777781   \n",
       "44823     3227383        NaN  2016-05-05 08:37:09  75.992551  31.561747   \n",
       "...           ...        ...                  ...        ...        ...   \n",
       "3212337   2191286        NaN  2016-05-04 18:16:06  83.357991  17.805195   \n",
       "3215120    572054        NaN  2016-05-07 08:48:22  83.371738  17.752819   \n",
       "3230115    332451        NaN  2016-05-07 09:01:45  75.992551  31.561747   \n",
       "3235494   2534073        NaN  2016-05-06 21:07:01  83.371738  17.752819   \n",
       "3250939   1622538        NaN  2016-05-06 21:26:10  75.888487  26.948689   \n",
       "\n",
       "                  city          state  Event_Date  \n",
       "2055            Indore  MadhyaPradesh  2016-05-02  \n",
       "26367           Jaipur      Rajasthan  2016-05-04  \n",
       "42088           Jaipur      Rajasthan  2016-05-06  \n",
       "43061           Indore  MadhyaPradesh  2016-05-02  \n",
       "44823       Hoshiarpur         Punjab  2016-05-05  \n",
       "...                ...            ...         ...  \n",
       "3212337  Visakhapatnam  AndhraPradesh  2016-05-04  \n",
       "3215120  Visakhapatnam  AndhraPradesh  2016-05-07  \n",
       "3230115     Hoshiarpur         Punjab  2016-05-07  \n",
       "3235494  Visakhapatnam  AndhraPradesh  2016-05-06  \n",
       "3250939         Jaipur      Rajasthan  2016-05-06  \n",
       "\n",
       "[453 rows x 8 columns]"
      ]
     },
     "execution_count": 244,
     "metadata": {},
     "output_type": "execute_result"
    }
   ],
   "source": [
    "#check the lat long of the missing device ids\n",
    "df_missing_device_ids = df_events[df_events['device_id'].isnull()]\n",
    "\n",
    "df_missing_device_ids\n",
    "#df_missing_device_ids.longitude.unique()\n"
   ]
  },
  {
   "cell_type": "code",
   "execution_count": 278,
   "metadata": {},
   "outputs": [
    {
     "data": {
      "text/plain": [
       "array([22.814519, 26.948689, 26.960796, 22.777781, 31.561747, 18.628057,\n",
       "       18.566925, 17.805195, 28.719966, 18.614812, 13.153332, 13.149176,\n",
       "       28.721053, 17.752819, 22.817526, 17.822906, 26.95399 , 13.189053,\n",
       "       21.194283, 21.790693, 28.728888])"
      ]
     },
     "execution_count": 278,
     "metadata": {},
     "output_type": "execute_result"
    }
   ],
   "source": [
    "df_missing_device_ids.latitude.unique()"
   ]
  },
  {
   "cell_type": "code",
   "execution_count": 547,
   "metadata": {},
   "outputs": [],
   "source": [
    "df_events_copy = df_events.copy()"
   ]
  },
  {
   "cell_type": "code",
   "execution_count": 518,
   "metadata": {},
   "outputs": [
    {
     "data": {
      "text/plain": [
       "event_id        0\n",
       "device_id     453\n",
       "timestamp       0\n",
       "longitude     423\n",
       "latitude      423\n",
       "city            0\n",
       "state           0\n",
       "Event_Date      0\n",
       "dtype: int64"
      ]
     },
     "execution_count": 518,
     "metadata": {},
     "output_type": "execute_result"
    }
   ],
   "source": [
    "df_events_copy.isnull().sum()"
   ]
  },
  {
   "cell_type": "code",
   "execution_count": 520,
   "metadata": {},
   "outputs": [
    {
     "data": {
      "text/plain": [
       "event_id      453\n",
       "device_id       0\n",
       "timestamp     453\n",
       "longitude     453\n",
       "latitude      453\n",
       "city          453\n",
       "state         453\n",
       "Event_Date    453\n",
       "dtype: int64"
      ]
     },
     "execution_count": 520,
     "metadata": {},
     "output_type": "execute_result"
    }
   ],
   "source": [
    "zzz = df_events_copy.loc[df_events_copy['device_id'].isnull()]\n",
    "zzz.count()"
   ]
  },
  {
   "cell_type": "code",
   "execution_count": 522,
   "metadata": {},
   "outputs": [
    {
     "data": {
      "text/html": [
       "<div>\n",
       "<style scoped>\n",
       "    .dataframe tbody tr th:only-of-type {\n",
       "        vertical-align: middle;\n",
       "    }\n",
       "\n",
       "    .dataframe tbody tr th {\n",
       "        vertical-align: top;\n",
       "    }\n",
       "\n",
       "    .dataframe thead th {\n",
       "        text-align: right;\n",
       "    }\n",
       "</style>\n",
       "<table border=\"1\" class=\"dataframe\">\n",
       "  <thead>\n",
       "    <tr style=\"text-align: right;\">\n",
       "      <th></th>\n",
       "      <th>event_id</th>\n",
       "      <th>device_id</th>\n",
       "      <th>timestamp</th>\n",
       "      <th>longitude</th>\n",
       "      <th>latitude</th>\n",
       "      <th>city</th>\n",
       "      <th>state</th>\n",
       "      <th>Event_Date</th>\n",
       "    </tr>\n",
       "  </thead>\n",
       "  <tbody>\n",
       "    <tr>\n",
       "      <th>1994</th>\n",
       "      <td>923207</td>\n",
       "      <td>6.875586e+18</td>\n",
       "      <td>2016-05-04 09:02:19</td>\n",
       "      <td>77.303153</td>\n",
       "      <td>28.728888</td>\n",
       "      <td>Delhi</td>\n",
       "      <td>Delhi</td>\n",
       "      <td>2016-05-04</td>\n",
       "    </tr>\n",
       "    <tr>\n",
       "      <th>4825</th>\n",
       "      <td>1707403</td>\n",
       "      <td>6.875586e+18</td>\n",
       "      <td>2016-05-04 07:49:19</td>\n",
       "      <td>77.303153</td>\n",
       "      <td>28.728888</td>\n",
       "      <td>Delhi</td>\n",
       "      <td>Delhi</td>\n",
       "      <td>2016-05-04</td>\n",
       "    </tr>\n",
       "    <tr>\n",
       "      <th>5353</th>\n",
       "      <td>2723414</td>\n",
       "      <td>6.875586e+18</td>\n",
       "      <td>2016-05-02 12:00:48</td>\n",
       "      <td>77.303153</td>\n",
       "      <td>28.728888</td>\n",
       "      <td>Delhi</td>\n",
       "      <td>Delhi</td>\n",
       "      <td>2016-05-02</td>\n",
       "    </tr>\n",
       "    <tr>\n",
       "      <th>7143</th>\n",
       "      <td>2485681</td>\n",
       "      <td>6.875586e+18</td>\n",
       "      <td>2016-05-07 18:06:32</td>\n",
       "      <td>77.303153</td>\n",
       "      <td>28.728888</td>\n",
       "      <td>Delhi</td>\n",
       "      <td>Delhi</td>\n",
       "      <td>2016-05-07</td>\n",
       "    </tr>\n",
       "    <tr>\n",
       "      <th>7659</th>\n",
       "      <td>1628919</td>\n",
       "      <td>6.875586e+18</td>\n",
       "      <td>2016-05-03 04:29:35</td>\n",
       "      <td>77.303153</td>\n",
       "      <td>28.728888</td>\n",
       "      <td>Delhi</td>\n",
       "      <td>Delhi</td>\n",
       "      <td>2016-05-03</td>\n",
       "    </tr>\n",
       "    <tr>\n",
       "      <th>...</th>\n",
       "      <td>...</td>\n",
       "      <td>...</td>\n",
       "      <td>...</td>\n",
       "      <td>...</td>\n",
       "      <td>...</td>\n",
       "      <td>...</td>\n",
       "      <td>...</td>\n",
       "      <td>...</td>\n",
       "    </tr>\n",
       "    <tr>\n",
       "      <th>3243223</th>\n",
       "      <td>2252278</td>\n",
       "      <td>6.875586e+18</td>\n",
       "      <td>2016-05-03 23:06:08</td>\n",
       "      <td>77.303153</td>\n",
       "      <td>28.728888</td>\n",
       "      <td>Delhi</td>\n",
       "      <td>Delhi</td>\n",
       "      <td>2016-05-03</td>\n",
       "    </tr>\n",
       "    <tr>\n",
       "      <th>3244269</th>\n",
       "      <td>224735</td>\n",
       "      <td>6.875586e+18</td>\n",
       "      <td>2016-05-05 11:45:37</td>\n",
       "      <td>77.303153</td>\n",
       "      <td>28.728888</td>\n",
       "      <td>Delhi</td>\n",
       "      <td>Delhi</td>\n",
       "      <td>2016-05-05</td>\n",
       "    </tr>\n",
       "    <tr>\n",
       "      <th>3246386</th>\n",
       "      <td>926517</td>\n",
       "      <td>6.875586e+18</td>\n",
       "      <td>2016-05-02 12:50:34</td>\n",
       "      <td>77.303153</td>\n",
       "      <td>28.728888</td>\n",
       "      <td>Delhi</td>\n",
       "      <td>Delhi</td>\n",
       "      <td>2016-05-02</td>\n",
       "    </tr>\n",
       "    <tr>\n",
       "      <th>3247698</th>\n",
       "      <td>1986657</td>\n",
       "      <td>6.875586e+18</td>\n",
       "      <td>2016-05-06 01:28:05</td>\n",
       "      <td>77.303153</td>\n",
       "      <td>28.728888</td>\n",
       "      <td>Delhi</td>\n",
       "      <td>Delhi</td>\n",
       "      <td>2016-05-06</td>\n",
       "    </tr>\n",
       "    <tr>\n",
       "      <th>3252842</th>\n",
       "      <td>3238012</td>\n",
       "      <td>6.875586e+18</td>\n",
       "      <td>2016-05-03 15:19:36</td>\n",
       "      <td>77.303153</td>\n",
       "      <td>28.728888</td>\n",
       "      <td>Delhi</td>\n",
       "      <td>Delhi</td>\n",
       "      <td>2016-05-03</td>\n",
       "    </tr>\n",
       "  </tbody>\n",
       "</table>\n",
       "<p>2310 rows × 8 columns</p>\n",
       "</div>"
      ],
      "text/plain": [
       "         event_id     device_id            timestamp  longitude   latitude  \\\n",
       "1994       923207  6.875586e+18  2016-05-04 09:02:19  77.303153  28.728888   \n",
       "4825      1707403  6.875586e+18  2016-05-04 07:49:19  77.303153  28.728888   \n",
       "5353      2723414  6.875586e+18  2016-05-02 12:00:48  77.303153  28.728888   \n",
       "7143      2485681  6.875586e+18  2016-05-07 18:06:32  77.303153  28.728888   \n",
       "7659      1628919  6.875586e+18  2016-05-03 04:29:35  77.303153  28.728888   \n",
       "...           ...           ...                  ...        ...        ...   \n",
       "3243223   2252278  6.875586e+18  2016-05-03 23:06:08  77.303153  28.728888   \n",
       "3244269    224735  6.875586e+18  2016-05-05 11:45:37  77.303153  28.728888   \n",
       "3246386    926517  6.875586e+18  2016-05-02 12:50:34  77.303153  28.728888   \n",
       "3247698   1986657  6.875586e+18  2016-05-06 01:28:05  77.303153  28.728888   \n",
       "3252842   3238012  6.875586e+18  2016-05-03 15:19:36  77.303153  28.728888   \n",
       "\n",
       "          city  state  Event_Date  \n",
       "1994     Delhi  Delhi  2016-05-04  \n",
       "4825     Delhi  Delhi  2016-05-04  \n",
       "5353     Delhi  Delhi  2016-05-02  \n",
       "7143     Delhi  Delhi  2016-05-07  \n",
       "7659     Delhi  Delhi  2016-05-03  \n",
       "...        ...    ...         ...  \n",
       "3243223  Delhi  Delhi  2016-05-03  \n",
       "3244269  Delhi  Delhi  2016-05-05  \n",
       "3246386  Delhi  Delhi  2016-05-02  \n",
       "3247698  Delhi  Delhi  2016-05-06  \n",
       "3252842  Delhi  Delhi  2016-05-03  \n",
       "\n",
       "[2310 rows x 8 columns]"
      ]
     },
     "execution_count": 522,
     "metadata": {},
     "output_type": "execute_result"
    }
   ],
   "source": [
    "unique_missing_lats = df_missing_device_ids.latitude.unique()\n",
    "\n",
    "x = df_events_copy[(df_events_copy['latitude'] == u)]\n",
    "x\n"
   ]
  },
  {
   "cell_type": "code",
   "execution_count": 549,
   "metadata": {},
   "outputs": [
    {
     "name": "stderr",
     "output_type": "stream",
     "text": [
      "c:\\users\\oye\\appdata\\local\\programs\\python\\python37\\lib\\site-packages\\ipykernel_launcher.py:5: FutureWarning: `item` has been deprecated and will be removed in a future version\n",
      "  \"\"\"\n"
     ]
    },
    {
     "data": {
      "text/plain": [
       "event_id        0\n",
       "device_id       0\n",
       "timestamp       0\n",
       "longitude     423\n",
       "latitude      423\n",
       "city            0\n",
       "state           0\n",
       "Event_Date      0\n",
       "dtype: int64"
      ]
     },
     "execution_count": 549,
     "metadata": {},
     "output_type": "execute_result"
    }
   ],
   "source": [
    "def filldeviceIdFromOtherRowsWithDeviceIdandLongitude(long):\n",
    "    #print(long)\n",
    "    #find the device id for the mapped longitude\n",
    "    deviceIdmappedAlready = df_events_copy[(df_events_copy[\"longitude\"]==long) &\n",
    "                                           ~(pd.isnull(df_events_copy[\"device_id\"]))].head(1)[\"device_id\"].item()\n",
    "    return deviceIdmappedAlready\n",
    "df_events_copy[\"device_id\"]=df_events_copy.apply(lambda x : filldeviceIdFromOtherRowsWithDeviceIdandLongitude(x['longitude']) if pd.isnull(x['device_id']) else  x['device_id'],axis = 1) \n",
    "\n",
    "df_events_copy.isnull().sum()\n"
   ]
  },
  {
   "cell_type": "code",
   "execution_count": 550,
   "metadata": {},
   "outputs": [
    {
     "name": "stderr",
     "output_type": "stream",
     "text": [
      "c:\\users\\oye\\appdata\\local\\programs\\python\\python37\\lib\\site-packages\\ipykernel_launcher.py:4: FutureWarning: `item` has been deprecated and will be removed in a future version\n",
      "  after removing the cwd from sys.path.\n"
     ]
    },
    {
     "data": {
      "text/plain": [
       "event_id      0\n",
       "device_id     0\n",
       "timestamp     0\n",
       "longitude     0\n",
       "latitude      0\n",
       "city          0\n",
       "state         0\n",
       "Event_Date    0\n",
       "dtype: int64"
      ]
     },
     "execution_count": 550,
     "metadata": {},
     "output_type": "execute_result"
    }
   ],
   "source": [
    "def filllongitudelatFromOtherRowsWithDeviceIdandLongitudelattitude(deviceId):\n",
    "    #print(long)\n",
    "    #find the device id for the mapped longitude\n",
    "    longitudelattitudealreadymapped = df_events_copy[(df_events_copy[\"device_id\"]==deviceId) & ~(pd.isnull(df_events_copy[\"longitude\"]))].head(1)[\"longitude\"].item()\n",
    "    return longitudelattitudealreadymapped\n",
    "df_events_copy[\"longitude\"]=df_events_copy.apply(lambda x : filllongitudelatFromOtherRowsWithDeviceIdandLongitudelattitude(x['device_id']) if pd.isnull(x['longitude']) else  x['longitude'],axis = 1) \n",
    "df_events_copy[\"latitude\"]=df_events_copy.apply(lambda x : filllongitudelatFromOtherRowsWithDeviceIdandLongitudelattitude(x['device_id']) if pd.isnull(x['latitude']) else  x['latitude'],axis = 1) \n",
    "\n",
    "df_events_copy.isnull().sum()"
   ]
  },
  {
   "cell_type": "code",
   "execution_count": 577,
   "metadata": {},
   "outputs": [
    {
     "data": {
      "text/html": [
       "<div>\n",
       "<style scoped>\n",
       "    .dataframe tbody tr th:only-of-type {\n",
       "        vertical-align: middle;\n",
       "    }\n",
       "\n",
       "    .dataframe tbody tr th {\n",
       "        vertical-align: top;\n",
       "    }\n",
       "\n",
       "    .dataframe thead th {\n",
       "        text-align: right;\n",
       "    }\n",
       "</style>\n",
       "<table border=\"1\" class=\"dataframe\">\n",
       "  <thead>\n",
       "    <tr style=\"text-align: right;\">\n",
       "      <th></th>\n",
       "      <th>event_id</th>\n",
       "      <th>device_id</th>\n",
       "      <th>timestamp</th>\n",
       "      <th>longitude</th>\n",
       "      <th>latitude</th>\n",
       "      <th>city</th>\n",
       "      <th>state</th>\n",
       "      <th>Event_Date</th>\n",
       "    </tr>\n",
       "  </thead>\n",
       "  <tbody>\n",
       "    <tr>\n",
       "      <th>43061</th>\n",
       "      <td>1903648</td>\n",
       "      <td>NaN</td>\n",
       "      <td>2016-05-02 15:41:54</td>\n",
       "      <td>75.923332</td>\n",
       "      <td>22.777781</td>\n",
       "      <td>Indore</td>\n",
       "      <td>MadhyaPradesh</td>\n",
       "      <td>2016-05-02</td>\n",
       "    </tr>\n",
       "    <tr>\n",
       "      <th>306432</th>\n",
       "      <td>2370402</td>\n",
       "      <td>NaN</td>\n",
       "      <td>2016-05-01 16:20:07</td>\n",
       "      <td>75.923332</td>\n",
       "      <td>22.777781</td>\n",
       "      <td>Indore</td>\n",
       "      <td>MadhyaPradesh</td>\n",
       "      <td>2016-05-01</td>\n",
       "    </tr>\n",
       "    <tr>\n",
       "      <th>383158</th>\n",
       "      <td>62725</td>\n",
       "      <td>NaN</td>\n",
       "      <td>2016-05-05 23:29:23</td>\n",
       "      <td>75.923332</td>\n",
       "      <td>22.777781</td>\n",
       "      <td>Indore</td>\n",
       "      <td>MadhyaPradesh</td>\n",
       "      <td>2016-05-05</td>\n",
       "    </tr>\n",
       "    <tr>\n",
       "      <th>413009</th>\n",
       "      <td>520053</td>\n",
       "      <td>NaN</td>\n",
       "      <td>2016-05-01 16:23:00</td>\n",
       "      <td>75.923332</td>\n",
       "      <td>22.777781</td>\n",
       "      <td>Indore</td>\n",
       "      <td>MadhyaPradesh</td>\n",
       "      <td>2016-05-01</td>\n",
       "    </tr>\n",
       "    <tr>\n",
       "      <th>647442</th>\n",
       "      <td>1205324</td>\n",
       "      <td>NaN</td>\n",
       "      <td>2016-05-02 15:42:14</td>\n",
       "      <td>75.923332</td>\n",
       "      <td>22.777781</td>\n",
       "      <td>Indore</td>\n",
       "      <td>MadhyaPradesh</td>\n",
       "      <td>2016-05-02</td>\n",
       "    </tr>\n",
       "    <tr>\n",
       "      <th>939430</th>\n",
       "      <td>53038</td>\n",
       "      <td>NaN</td>\n",
       "      <td>2016-05-01 18:11:24</td>\n",
       "      <td>75.923332</td>\n",
       "      <td>22.777781</td>\n",
       "      <td>Indore</td>\n",
       "      <td>MadhyaPradesh</td>\n",
       "      <td>2016-05-01</td>\n",
       "    </tr>\n",
       "    <tr>\n",
       "      <th>1073996</th>\n",
       "      <td>3214579</td>\n",
       "      <td>NaN</td>\n",
       "      <td>2016-05-05 22:24:32</td>\n",
       "      <td>75.923332</td>\n",
       "      <td>22.777781</td>\n",
       "      <td>Indore</td>\n",
       "      <td>MadhyaPradesh</td>\n",
       "      <td>2016-05-05</td>\n",
       "    </tr>\n",
       "    <tr>\n",
       "      <th>1134447</th>\n",
       "      <td>1102536</td>\n",
       "      <td>NaN</td>\n",
       "      <td>2016-05-06 21:19:09</td>\n",
       "      <td>75.923332</td>\n",
       "      <td>22.777781</td>\n",
       "      <td>Indore</td>\n",
       "      <td>MadhyaPradesh</td>\n",
       "      <td>2016-05-06</td>\n",
       "    </tr>\n",
       "    <tr>\n",
       "      <th>1411525</th>\n",
       "      <td>1558323</td>\n",
       "      <td>NaN</td>\n",
       "      <td>2016-05-01 21:53:01</td>\n",
       "      <td>75.923332</td>\n",
       "      <td>22.777781</td>\n",
       "      <td>Indore</td>\n",
       "      <td>MadhyaPradesh</td>\n",
       "      <td>2016-05-01</td>\n",
       "    </tr>\n",
       "    <tr>\n",
       "      <th>1528115</th>\n",
       "      <td>1261612</td>\n",
       "      <td>NaN</td>\n",
       "      <td>2016-05-04 19:07:05</td>\n",
       "      <td>75.923332</td>\n",
       "      <td>22.777781</td>\n",
       "      <td>Indore</td>\n",
       "      <td>MadhyaPradesh</td>\n",
       "      <td>2016-05-04</td>\n",
       "    </tr>\n",
       "    <tr>\n",
       "      <th>1727907</th>\n",
       "      <td>2762149</td>\n",
       "      <td>NaN</td>\n",
       "      <td>2016-05-07 20:49:42</td>\n",
       "      <td>75.923332</td>\n",
       "      <td>22.777781</td>\n",
       "      <td>Indore</td>\n",
       "      <td>MadhyaPradesh</td>\n",
       "      <td>2016-05-07</td>\n",
       "    </tr>\n",
       "    <tr>\n",
       "      <th>1906925</th>\n",
       "      <td>310080</td>\n",
       "      <td>NaN</td>\n",
       "      <td>2016-05-02 15:37:17</td>\n",
       "      <td>75.923332</td>\n",
       "      <td>22.777781</td>\n",
       "      <td>Indore</td>\n",
       "      <td>MadhyaPradesh</td>\n",
       "      <td>2016-05-02</td>\n",
       "    </tr>\n",
       "    <tr>\n",
       "      <th>2258158</th>\n",
       "      <td>754221</td>\n",
       "      <td>NaN</td>\n",
       "      <td>2016-05-04 20:57:43</td>\n",
       "      <td>75.923332</td>\n",
       "      <td>22.777781</td>\n",
       "      <td>Indore</td>\n",
       "      <td>MadhyaPradesh</td>\n",
       "      <td>2016-05-04</td>\n",
       "    </tr>\n",
       "    <tr>\n",
       "      <th>2898335</th>\n",
       "      <td>1974053</td>\n",
       "      <td>NaN</td>\n",
       "      <td>2016-05-01 18:12:07</td>\n",
       "      <td>75.923332</td>\n",
       "      <td>22.777781</td>\n",
       "      <td>Indore</td>\n",
       "      <td>MadhyaPradesh</td>\n",
       "      <td>2016-05-01</td>\n",
       "    </tr>\n",
       "    <tr>\n",
       "      <th>2976436</th>\n",
       "      <td>2621408</td>\n",
       "      <td>NaN</td>\n",
       "      <td>2016-05-04 18:24:57</td>\n",
       "      <td>75.923332</td>\n",
       "      <td>22.777781</td>\n",
       "      <td>Indore</td>\n",
       "      <td>MadhyaPradesh</td>\n",
       "      <td>2016-05-04</td>\n",
       "    </tr>\n",
       "    <tr>\n",
       "      <th>3079907</th>\n",
       "      <td>908097</td>\n",
       "      <td>NaN</td>\n",
       "      <td>2016-05-04 18:56:54</td>\n",
       "      <td>75.923332</td>\n",
       "      <td>22.777781</td>\n",
       "      <td>Indore</td>\n",
       "      <td>MadhyaPradesh</td>\n",
       "      <td>2016-05-04</td>\n",
       "    </tr>\n",
       "    <tr>\n",
       "      <th>3097256</th>\n",
       "      <td>1674442</td>\n",
       "      <td>NaN</td>\n",
       "      <td>2016-05-06 15:47:24</td>\n",
       "      <td>75.923332</td>\n",
       "      <td>22.777781</td>\n",
       "      <td>Indore</td>\n",
       "      <td>MadhyaPradesh</td>\n",
       "      <td>2016-05-06</td>\n",
       "    </tr>\n",
       "  </tbody>\n",
       "</table>\n",
       "</div>"
      ],
      "text/plain": [
       "         event_id  device_id            timestamp  longitude   latitude  \\\n",
       "43061     1903648        NaN  2016-05-02 15:41:54  75.923332  22.777781   \n",
       "306432    2370402        NaN  2016-05-01 16:20:07  75.923332  22.777781   \n",
       "383158      62725        NaN  2016-05-05 23:29:23  75.923332  22.777781   \n",
       "413009     520053        NaN  2016-05-01 16:23:00  75.923332  22.777781   \n",
       "647442    1205324        NaN  2016-05-02 15:42:14  75.923332  22.777781   \n",
       "939430      53038        NaN  2016-05-01 18:11:24  75.923332  22.777781   \n",
       "1073996   3214579        NaN  2016-05-05 22:24:32  75.923332  22.777781   \n",
       "1134447   1102536        NaN  2016-05-06 21:19:09  75.923332  22.777781   \n",
       "1411525   1558323        NaN  2016-05-01 21:53:01  75.923332  22.777781   \n",
       "1528115   1261612        NaN  2016-05-04 19:07:05  75.923332  22.777781   \n",
       "1727907   2762149        NaN  2016-05-07 20:49:42  75.923332  22.777781   \n",
       "1906925    310080        NaN  2016-05-02 15:37:17  75.923332  22.777781   \n",
       "2258158    754221        NaN  2016-05-04 20:57:43  75.923332  22.777781   \n",
       "2898335   1974053        NaN  2016-05-01 18:12:07  75.923332  22.777781   \n",
       "2976436   2621408        NaN  2016-05-04 18:24:57  75.923332  22.777781   \n",
       "3079907    908097        NaN  2016-05-04 18:56:54  75.923332  22.777781   \n",
       "3097256   1674442        NaN  2016-05-06 15:47:24  75.923332  22.777781   \n",
       "\n",
       "           city          state  Event_Date  \n",
       "43061    Indore  MadhyaPradesh  2016-05-02  \n",
       "306432   Indore  MadhyaPradesh  2016-05-01  \n",
       "383158   Indore  MadhyaPradesh  2016-05-05  \n",
       "413009   Indore  MadhyaPradesh  2016-05-01  \n",
       "647442   Indore  MadhyaPradesh  2016-05-02  \n",
       "939430   Indore  MadhyaPradesh  2016-05-01  \n",
       "1073996  Indore  MadhyaPradesh  2016-05-05  \n",
       "1134447  Indore  MadhyaPradesh  2016-05-06  \n",
       "1411525  Indore  MadhyaPradesh  2016-05-01  \n",
       "1528115  Indore  MadhyaPradesh  2016-05-04  \n",
       "1727907  Indore  MadhyaPradesh  2016-05-07  \n",
       "1906925  Indore  MadhyaPradesh  2016-05-02  \n",
       "2258158  Indore  MadhyaPradesh  2016-05-04  \n",
       "2898335  Indore  MadhyaPradesh  2016-05-01  \n",
       "2976436  Indore  MadhyaPradesh  2016-05-04  \n",
       "3079907  Indore  MadhyaPradesh  2016-05-04  \n",
       "3097256  Indore  MadhyaPradesh  2016-05-06  "
      ]
     },
     "execution_count": 577,
     "metadata": {},
     "output_type": "execute_result"
    }
   ],
   "source": [
    "df_events[ (df_events.latitude == 22.777781) & (df_events.device_id.isnull())]"
   ]
  },
  {
   "cell_type": "code",
   "execution_count": 579,
   "metadata": {},
   "outputs": [
    {
     "data": {
      "text/html": [
       "<div>\n",
       "<style scoped>\n",
       "    .dataframe tbody tr th:only-of-type {\n",
       "        vertical-align: middle;\n",
       "    }\n",
       "\n",
       "    .dataframe tbody tr th {\n",
       "        vertical-align: top;\n",
       "    }\n",
       "\n",
       "    .dataframe thead th {\n",
       "        text-align: right;\n",
       "    }\n",
       "</style>\n",
       "<table border=\"1\" class=\"dataframe\">\n",
       "  <thead>\n",
       "    <tr style=\"text-align: right;\">\n",
       "      <th></th>\n",
       "      <th>event_id</th>\n",
       "      <th>device_id</th>\n",
       "      <th>timestamp</th>\n",
       "      <th>longitude</th>\n",
       "      <th>latitude</th>\n",
       "      <th>city</th>\n",
       "      <th>state</th>\n",
       "      <th>Event_Date</th>\n",
       "    </tr>\n",
       "  </thead>\n",
       "  <tbody>\n",
       "    <tr>\n",
       "      <th>1547987</th>\n",
       "      <td>1350986</td>\n",
       "      <td>3.132861e+18</td>\n",
       "      <td>2016-05-01 22:11:23</td>\n",
       "      <td>75.882956</td>\n",
       "      <td>22.814519</td>\n",
       "      <td>Indore</td>\n",
       "      <td>MadhyaPradesh</td>\n",
       "      <td>2016-05-01</td>\n",
       "    </tr>\n",
       "  </tbody>\n",
       "</table>\n",
       "</div>"
      ],
      "text/plain": [
       "         event_id     device_id            timestamp  longitude   latitude  \\\n",
       "1547987   1350986  3.132861e+18  2016-05-01 22:11:23  75.882956  22.814519   \n",
       "\n",
       "           city          state  Event_Date  \n",
       "1547987  Indore  MadhyaPradesh  2016-05-01  "
      ]
     },
     "execution_count": 579,
     "metadata": {},
     "output_type": "execute_result"
    }
   ],
   "source": [
    "df_events_copy[ (df_events_copy.latitude == 22.814519) & (df_events_copy.event_id==1350986)]\n"
   ]
  },
  {
   "cell_type": "code",
   "execution_count": 580,
   "metadata": {},
   "outputs": [
    {
     "data": {
      "text/html": [
       "<div>\n",
       "<style scoped>\n",
       "    .dataframe tbody tr th:only-of-type {\n",
       "        vertical-align: middle;\n",
       "    }\n",
       "\n",
       "    .dataframe tbody tr th {\n",
       "        vertical-align: top;\n",
       "    }\n",
       "\n",
       "    .dataframe thead th {\n",
       "        text-align: right;\n",
       "    }\n",
       "</style>\n",
       "<table border=\"1\" class=\"dataframe\">\n",
       "  <thead>\n",
       "    <tr style=\"text-align: right;\">\n",
       "      <th></th>\n",
       "      <th>event_id</th>\n",
       "      <th>device_id</th>\n",
       "      <th>timestamp</th>\n",
       "      <th>longitude</th>\n",
       "      <th>latitude</th>\n",
       "      <th>city</th>\n",
       "      <th>state</th>\n",
       "      <th>Event_Date</th>\n",
       "    </tr>\n",
       "  </thead>\n",
       "  <tbody>\n",
       "    <tr>\n",
       "      <th>43061</th>\n",
       "      <td>1903648</td>\n",
       "      <td>7.597736e+18</td>\n",
       "      <td>2016-05-02 15:41:54</td>\n",
       "      <td>75.923332</td>\n",
       "      <td>22.777781</td>\n",
       "      <td>Indore</td>\n",
       "      <td>MadhyaPradesh</td>\n",
       "      <td>2016-05-02</td>\n",
       "    </tr>\n",
       "  </tbody>\n",
       "</table>\n",
       "</div>"
      ],
      "text/plain": [
       "       event_id     device_id            timestamp  longitude   latitude  \\\n",
       "43061   1903648  7.597736e+18  2016-05-02 15:41:54  75.923332  22.777781   \n",
       "\n",
       "         city          state  Event_Date  \n",
       "43061  Indore  MadhyaPradesh  2016-05-02  "
      ]
     },
     "execution_count": 580,
     "metadata": {},
     "output_type": "execute_result"
    }
   ],
   "source": [
    "df_events_copy[ (df_events_copy.latitude == 22.777781) & (df_events_copy.event_id==1903648)]\n"
   ]
  },
  {
   "cell_type": "code",
   "execution_count": 593,
   "metadata": {},
   "outputs": [
    {
     "name": "stdout",
     "output_type": "stream",
     "text": [
      "Series([], Name: latitude, dtype: float64)\n"
     ]
    },
    {
     "ename": "TypeError",
     "evalue": "'method' object is not subscriptable",
     "output_type": "error",
     "traceback": [
      "\u001b[1;31m---------------------------------------------------------------------------\u001b[0m",
      "\u001b[1;31mTypeError\u001b[0m                                 Traceback (most recent call last)",
      "\u001b[1;32m<ipython-input-593-4488f9911237>\u001b[0m in \u001b[0;36m<module>\u001b[1;34m\u001b[0m\n\u001b[0;32m     18\u001b[0m         \u001b[1;31m#print(df_events_copy[df_events_copy['device_id'].isnull()].device_id)\u001b[0m\u001b[1;33m\u001b[0m\u001b[1;33m\u001b[0m\u001b[1;33m\u001b[0m\u001b[0m\n\u001b[0;32m     19\u001b[0m         df_events_copy.apply[df_events_copy['device_id'].isnull() & \n\u001b[1;32m---> 20\u001b[1;33m                        df_events_copy.latitude == u].device_id = value_to_copy\n\u001b[0m\u001b[0;32m     21\u001b[0m         \u001b[1;31m#print(value_to_copy)\u001b[0m\u001b[1;33m\u001b[0m\u001b[1;33m\u001b[0m\u001b[1;33m\u001b[0m\u001b[0m\n\u001b[0;32m     22\u001b[0m \u001b[1;33m\u001b[0m\u001b[0m\n",
      "\u001b[1;31mTypeError\u001b[0m: 'method' object is not subscriptable"
     ]
    }
   ],
   "source": [
    "from numpy import nan\n",
    "#loop thru all the latitude values in the missing_device_ids\n",
    "\n",
    "value_to_copy = 0\n",
    "\n",
    "for u in unique_missing_lats:\n",
    "    device_id_list = df_events_copy.loc[df_events_copy.latitude == u].device_id\n",
    "    #print(device_id_list)\n",
    "    for i in device_id_list:\n",
    "        if(~np.isnan(i)):\n",
    "            value_to_copy = i\n",
    "            #print(value_to_copy)\n",
    "            break;\n",
    "    if(value_to_copy != 0):\n",
    "        x = df_events_copy[df_events_copy['device_id'].isnull() & \n",
    "                       df_events_copy.latitude == u]\n",
    "        print(x.latitude)\n",
    "        #print(df_events_copy[df_events_copy['device_id'].isnull()].device_id)\n",
    "        df_events_copy.apply[df_events_copy['device_id'].isnull() & \n",
    "                       df_events_copy.latitude == u].device_id = value_to_copy\n",
    "        #print(value_to_copy)\n",
    "\n",
    "#df_events_copy.isnull().sum()"
   ]
  },
  {
   "cell_type": "code",
   "execution_count": 581,
   "metadata": {},
   "outputs": [
    {
     "data": {
      "text/plain": [
       "event_id      0\n",
       "device_id     0\n",
       "timestamp     0\n",
       "longitude     0\n",
       "latitude      0\n",
       "city          0\n",
       "state         0\n",
       "Event_Date    0\n",
       "dtype: int64"
      ]
     },
     "execution_count": 581,
     "metadata": {},
     "output_type": "execute_result"
    }
   ],
   "source": [
    "df_events_copy.isnull().sum()\n",
    "#df_events.device_id.isnull().sum()"
   ]
  },
  {
   "cell_type": "code",
   "execution_count": 266,
   "metadata": {},
   "outputs": [
    {
     "data": {
      "text/plain": [
       "array([22.814519, 26.948689, 26.960796, 22.777781, 31.561747, 18.628057,\n",
       "       18.566925, 17.805195, 28.719966, 18.614812, 13.153332, 13.149176,\n",
       "       28.721053, 17.752819, 22.817526, 17.822906, 26.95399 , 13.189053,\n",
       "       21.194283, 21.790693, 28.728888])"
      ]
     },
     "execution_count": 266,
     "metadata": {},
     "output_type": "execute_result"
    }
   ],
   "source": [
    "y = df_events.loc[df_events.device_id.isnull()]\n",
    "y.latitude.unique()\n"
   ]
  },
  {
   "cell_type": "code",
   "execution_count": 277,
   "metadata": {},
   "outputs": [
    {
     "data": {
      "text/plain": [
       "3.132861e+18    753\n",
       "Name: device_id, dtype: int64"
      ]
     },
     "execution_count": 277,
     "metadata": {},
     "output_type": "execute_result"
    }
   ],
   "source": [
    "x = df_events.loc[df_events.latitude == 22.814519]\n",
    "x.device_id.value_counts()\n"
   ]
  },
  {
   "cell_type": "code",
   "execution_count": 274,
   "metadata": {},
   "outputs": [
    {
     "data": {
      "text/plain": [
       "22.814519    17\n",
       "Name: latitude, dtype: int64"
      ]
     },
     "execution_count": 274,
     "metadata": {},
     "output_type": "execute_result"
    }
   ],
   "source": [
    "p = df_missing_device_ids.loc[df_events.latitude == 22.814519]\n",
    "p.latitude.value_counts()"
   ]
  },
  {
   "cell_type": "code",
   "execution_count": 241,
   "metadata": {},
   "outputs": [
    {
     "data": {
      "text/html": [
       "<div>\n",
       "<style scoped>\n",
       "    .dataframe tbody tr th:only-of-type {\n",
       "        vertical-align: middle;\n",
       "    }\n",
       "\n",
       "    .dataframe tbody tr th {\n",
       "        vertical-align: top;\n",
       "    }\n",
       "\n",
       "    .dataframe thead th {\n",
       "        text-align: right;\n",
       "    }\n",
       "</style>\n",
       "<table border=\"1\" class=\"dataframe\">\n",
       "  <thead>\n",
       "    <tr style=\"text-align: right;\">\n",
       "      <th></th>\n",
       "      <th>event_id</th>\n",
       "      <th>device_id</th>\n",
       "      <th>timestamp</th>\n",
       "      <th>longitude</th>\n",
       "      <th>latitude</th>\n",
       "      <th>city</th>\n",
       "      <th>state</th>\n",
       "      <th>Event_Date</th>\n",
       "    </tr>\n",
       "  </thead>\n",
       "  <tbody>\n",
       "    <tr>\n",
       "      <th>42088</th>\n",
       "      <td>442198</td>\n",
       "      <td>NaN</td>\n",
       "      <td>2016-05-06 09:27:37</td>\n",
       "      <td>75.846007</td>\n",
       "      <td>26.960796</td>\n",
       "      <td>Jaipur</td>\n",
       "      <td>Rajasthan</td>\n",
       "      <td>2016-05-06</td>\n",
       "    </tr>\n",
       "    <tr>\n",
       "      <th>108238</th>\n",
       "      <td>257081</td>\n",
       "      <td>NaN</td>\n",
       "      <td>2016-05-07 16:19:28</td>\n",
       "      <td>75.846007</td>\n",
       "      <td>26.960796</td>\n",
       "      <td>Jaipur</td>\n",
       "      <td>Rajasthan</td>\n",
       "      <td>2016-05-07</td>\n",
       "    </tr>\n",
       "    <tr>\n",
       "      <th>296399</th>\n",
       "      <td>873328</td>\n",
       "      <td>NaN</td>\n",
       "      <td>2016-05-06 14:54:57</td>\n",
       "      <td>75.846007</td>\n",
       "      <td>26.960796</td>\n",
       "      <td>Jaipur</td>\n",
       "      <td>Rajasthan</td>\n",
       "      <td>2016-05-06</td>\n",
       "    </tr>\n",
       "    <tr>\n",
       "      <th>460648</th>\n",
       "      <td>1248095</td>\n",
       "      <td>NaN</td>\n",
       "      <td>2016-05-02 09:40:11</td>\n",
       "      <td>75.846007</td>\n",
       "      <td>26.960796</td>\n",
       "      <td>Jaipur</td>\n",
       "      <td>Rajasthan</td>\n",
       "      <td>2016-05-02</td>\n",
       "    </tr>\n",
       "    <tr>\n",
       "      <th>556261</th>\n",
       "      <td>1847124</td>\n",
       "      <td>NaN</td>\n",
       "      <td>2016-05-02 08:13:08</td>\n",
       "      <td>75.846007</td>\n",
       "      <td>26.960796</td>\n",
       "      <td>Jaipur</td>\n",
       "      <td>Rajasthan</td>\n",
       "      <td>2016-05-02</td>\n",
       "    </tr>\n",
       "    <tr>\n",
       "      <th>950114</th>\n",
       "      <td>177858</td>\n",
       "      <td>NaN</td>\n",
       "      <td>2016-05-05 14:28:03</td>\n",
       "      <td>75.846007</td>\n",
       "      <td>26.960796</td>\n",
       "      <td>Jaipur</td>\n",
       "      <td>Rajasthan</td>\n",
       "      <td>2016-05-05</td>\n",
       "    </tr>\n",
       "    <tr>\n",
       "      <th>1007700</th>\n",
       "      <td>1686053</td>\n",
       "      <td>NaN</td>\n",
       "      <td>2016-05-06 14:55:27</td>\n",
       "      <td>75.846007</td>\n",
       "      <td>26.960796</td>\n",
       "      <td>Jaipur</td>\n",
       "      <td>Rajasthan</td>\n",
       "      <td>2016-05-06</td>\n",
       "    </tr>\n",
       "    <tr>\n",
       "      <th>1076709</th>\n",
       "      <td>3091188</td>\n",
       "      <td>NaN</td>\n",
       "      <td>2016-05-03 08:04:34</td>\n",
       "      <td>75.846007</td>\n",
       "      <td>26.960796</td>\n",
       "      <td>Jaipur</td>\n",
       "      <td>Rajasthan</td>\n",
       "      <td>2016-05-03</td>\n",
       "    </tr>\n",
       "    <tr>\n",
       "      <th>1252696</th>\n",
       "      <td>1322884</td>\n",
       "      <td>NaN</td>\n",
       "      <td>2016-05-03 22:19:44</td>\n",
       "      <td>75.846007</td>\n",
       "      <td>26.960796</td>\n",
       "      <td>Jaipur</td>\n",
       "      <td>Rajasthan</td>\n",
       "      <td>2016-05-03</td>\n",
       "    </tr>\n",
       "    <tr>\n",
       "      <th>1297293</th>\n",
       "      <td>3132907</td>\n",
       "      <td>NaN</td>\n",
       "      <td>2016-05-03 07:23:37</td>\n",
       "      <td>75.846007</td>\n",
       "      <td>26.960796</td>\n",
       "      <td>Jaipur</td>\n",
       "      <td>Rajasthan</td>\n",
       "      <td>2016-05-03</td>\n",
       "    </tr>\n",
       "    <tr>\n",
       "      <th>1303002</th>\n",
       "      <td>615611</td>\n",
       "      <td>NaN</td>\n",
       "      <td>2016-05-03 22:15:57</td>\n",
       "      <td>75.846007</td>\n",
       "      <td>26.960796</td>\n",
       "      <td>Jaipur</td>\n",
       "      <td>Rajasthan</td>\n",
       "      <td>2016-05-03</td>\n",
       "    </tr>\n",
       "    <tr>\n",
       "      <th>1341460</th>\n",
       "      <td>1427650</td>\n",
       "      <td>NaN</td>\n",
       "      <td>2016-05-05 14:22:20</td>\n",
       "      <td>75.846007</td>\n",
       "      <td>26.960796</td>\n",
       "      <td>Jaipur</td>\n",
       "      <td>Rajasthan</td>\n",
       "      <td>2016-05-05</td>\n",
       "    </tr>\n",
       "    <tr>\n",
       "      <th>1480943</th>\n",
       "      <td>2588461</td>\n",
       "      <td>NaN</td>\n",
       "      <td>2016-05-01 16:29:57</td>\n",
       "      <td>75.846007</td>\n",
       "      <td>26.960796</td>\n",
       "      <td>Jaipur</td>\n",
       "      <td>Rajasthan</td>\n",
       "      <td>2016-05-01</td>\n",
       "    </tr>\n",
       "    <tr>\n",
       "      <th>1751405</th>\n",
       "      <td>1932121</td>\n",
       "      <td>NaN</td>\n",
       "      <td>2016-05-01 12:13:40</td>\n",
       "      <td>75.846007</td>\n",
       "      <td>26.960796</td>\n",
       "      <td>Jaipur</td>\n",
       "      <td>Rajasthan</td>\n",
       "      <td>2016-05-01</td>\n",
       "    </tr>\n",
       "    <tr>\n",
       "      <th>1982469</th>\n",
       "      <td>2590058</td>\n",
       "      <td>NaN</td>\n",
       "      <td>2016-05-07 16:27:17</td>\n",
       "      <td>75.846007</td>\n",
       "      <td>26.960796</td>\n",
       "      <td>Jaipur</td>\n",
       "      <td>Rajasthan</td>\n",
       "      <td>2016-05-07</td>\n",
       "    </tr>\n",
       "    <tr>\n",
       "      <th>2014653</th>\n",
       "      <td>2315841</td>\n",
       "      <td>NaN</td>\n",
       "      <td>2016-05-03 07:38:46</td>\n",
       "      <td>75.846007</td>\n",
       "      <td>26.960796</td>\n",
       "      <td>Jaipur</td>\n",
       "      <td>Rajasthan</td>\n",
       "      <td>2016-05-03</td>\n",
       "    </tr>\n",
       "    <tr>\n",
       "      <th>2071401</th>\n",
       "      <td>3205287</td>\n",
       "      <td>NaN</td>\n",
       "      <td>2016-05-01 16:44:09</td>\n",
       "      <td>75.846007</td>\n",
       "      <td>26.960796</td>\n",
       "      <td>Jaipur</td>\n",
       "      <td>Rajasthan</td>\n",
       "      <td>2016-05-01</td>\n",
       "    </tr>\n",
       "    <tr>\n",
       "      <th>2105453</th>\n",
       "      <td>2737861</td>\n",
       "      <td>NaN</td>\n",
       "      <td>2016-05-03 09:27:56</td>\n",
       "      <td>75.846007</td>\n",
       "      <td>26.960796</td>\n",
       "      <td>Jaipur</td>\n",
       "      <td>Rajasthan</td>\n",
       "      <td>2016-05-03</td>\n",
       "    </tr>\n",
       "    <tr>\n",
       "      <th>2280255</th>\n",
       "      <td>2657885</td>\n",
       "      <td>NaN</td>\n",
       "      <td>2016-05-07 13:37:03</td>\n",
       "      <td>75.846007</td>\n",
       "      <td>26.960796</td>\n",
       "      <td>Jaipur</td>\n",
       "      <td>Rajasthan</td>\n",
       "      <td>2016-05-07</td>\n",
       "    </tr>\n",
       "    <tr>\n",
       "      <th>2335369</th>\n",
       "      <td>2185164</td>\n",
       "      <td>NaN</td>\n",
       "      <td>2016-05-05 13:19:03</td>\n",
       "      <td>75.846007</td>\n",
       "      <td>26.960796</td>\n",
       "      <td>Jaipur</td>\n",
       "      <td>Rajasthan</td>\n",
       "      <td>2016-05-05</td>\n",
       "    </tr>\n",
       "    <tr>\n",
       "      <th>2489592</th>\n",
       "      <td>205784</td>\n",
       "      <td>NaN</td>\n",
       "      <td>2016-05-01 16:22:05</td>\n",
       "      <td>75.846007</td>\n",
       "      <td>26.960796</td>\n",
       "      <td>Jaipur</td>\n",
       "      <td>Rajasthan</td>\n",
       "      <td>2016-05-01</td>\n",
       "    </tr>\n",
       "    <tr>\n",
       "      <th>2531834</th>\n",
       "      <td>748506</td>\n",
       "      <td>NaN</td>\n",
       "      <td>2016-05-03 22:13:57</td>\n",
       "      <td>75.846007</td>\n",
       "      <td>26.960796</td>\n",
       "      <td>Jaipur</td>\n",
       "      <td>Rajasthan</td>\n",
       "      <td>2016-05-03</td>\n",
       "    </tr>\n",
       "    <tr>\n",
       "      <th>2585554</th>\n",
       "      <td>2782254</td>\n",
       "      <td>NaN</td>\n",
       "      <td>2016-05-01 16:39:32</td>\n",
       "      <td>75.846007</td>\n",
       "      <td>26.960796</td>\n",
       "      <td>Jaipur</td>\n",
       "      <td>Rajasthan</td>\n",
       "      <td>2016-05-01</td>\n",
       "    </tr>\n",
       "    <tr>\n",
       "      <th>2586055</th>\n",
       "      <td>629274</td>\n",
       "      <td>NaN</td>\n",
       "      <td>2016-05-01 11:43:00</td>\n",
       "      <td>75.846007</td>\n",
       "      <td>26.960796</td>\n",
       "      <td>Jaipur</td>\n",
       "      <td>Rajasthan</td>\n",
       "      <td>2016-05-01</td>\n",
       "    </tr>\n",
       "    <tr>\n",
       "      <th>2800109</th>\n",
       "      <td>283186</td>\n",
       "      <td>NaN</td>\n",
       "      <td>2016-05-05 16:14:43</td>\n",
       "      <td>75.846007</td>\n",
       "      <td>26.960796</td>\n",
       "      <td>Jaipur</td>\n",
       "      <td>Rajasthan</td>\n",
       "      <td>2016-05-05</td>\n",
       "    </tr>\n",
       "    <tr>\n",
       "      <th>2838175</th>\n",
       "      <td>127874</td>\n",
       "      <td>NaN</td>\n",
       "      <td>2016-05-02 10:22:32</td>\n",
       "      <td>75.846007</td>\n",
       "      <td>26.960796</td>\n",
       "      <td>Jaipur</td>\n",
       "      <td>Rajasthan</td>\n",
       "      <td>2016-05-02</td>\n",
       "    </tr>\n",
       "    <tr>\n",
       "      <th>2984574</th>\n",
       "      <td>2180168</td>\n",
       "      <td>NaN</td>\n",
       "      <td>2016-05-06 09:25:23</td>\n",
       "      <td>75.846007</td>\n",
       "      <td>26.960796</td>\n",
       "      <td>Jaipur</td>\n",
       "      <td>Rajasthan</td>\n",
       "      <td>2016-05-06</td>\n",
       "    </tr>\n",
       "  </tbody>\n",
       "</table>\n",
       "</div>"
      ],
      "text/plain": [
       "         event_id  device_id            timestamp  longitude   latitude  \\\n",
       "42088      442198        NaN  2016-05-06 09:27:37  75.846007  26.960796   \n",
       "108238     257081        NaN  2016-05-07 16:19:28  75.846007  26.960796   \n",
       "296399     873328        NaN  2016-05-06 14:54:57  75.846007  26.960796   \n",
       "460648    1248095        NaN  2016-05-02 09:40:11  75.846007  26.960796   \n",
       "556261    1847124        NaN  2016-05-02 08:13:08  75.846007  26.960796   \n",
       "950114     177858        NaN  2016-05-05 14:28:03  75.846007  26.960796   \n",
       "1007700   1686053        NaN  2016-05-06 14:55:27  75.846007  26.960796   \n",
       "1076709   3091188        NaN  2016-05-03 08:04:34  75.846007  26.960796   \n",
       "1252696   1322884        NaN  2016-05-03 22:19:44  75.846007  26.960796   \n",
       "1297293   3132907        NaN  2016-05-03 07:23:37  75.846007  26.960796   \n",
       "1303002    615611        NaN  2016-05-03 22:15:57  75.846007  26.960796   \n",
       "1341460   1427650        NaN  2016-05-05 14:22:20  75.846007  26.960796   \n",
       "1480943   2588461        NaN  2016-05-01 16:29:57  75.846007  26.960796   \n",
       "1751405   1932121        NaN  2016-05-01 12:13:40  75.846007  26.960796   \n",
       "1982469   2590058        NaN  2016-05-07 16:27:17  75.846007  26.960796   \n",
       "2014653   2315841        NaN  2016-05-03 07:38:46  75.846007  26.960796   \n",
       "2071401   3205287        NaN  2016-05-01 16:44:09  75.846007  26.960796   \n",
       "2105453   2737861        NaN  2016-05-03 09:27:56  75.846007  26.960796   \n",
       "2280255   2657885        NaN  2016-05-07 13:37:03  75.846007  26.960796   \n",
       "2335369   2185164        NaN  2016-05-05 13:19:03  75.846007  26.960796   \n",
       "2489592    205784        NaN  2016-05-01 16:22:05  75.846007  26.960796   \n",
       "2531834    748506        NaN  2016-05-03 22:13:57  75.846007  26.960796   \n",
       "2585554   2782254        NaN  2016-05-01 16:39:32  75.846007  26.960796   \n",
       "2586055    629274        NaN  2016-05-01 11:43:00  75.846007  26.960796   \n",
       "2800109    283186        NaN  2016-05-05 16:14:43  75.846007  26.960796   \n",
       "2838175    127874        NaN  2016-05-02 10:22:32  75.846007  26.960796   \n",
       "2984574   2180168        NaN  2016-05-06 09:25:23  75.846007  26.960796   \n",
       "\n",
       "           city      state  Event_Date  \n",
       "42088    Jaipur  Rajasthan  2016-05-06  \n",
       "108238   Jaipur  Rajasthan  2016-05-07  \n",
       "296399   Jaipur  Rajasthan  2016-05-06  \n",
       "460648   Jaipur  Rajasthan  2016-05-02  \n",
       "556261   Jaipur  Rajasthan  2016-05-02  \n",
       "950114   Jaipur  Rajasthan  2016-05-05  \n",
       "1007700  Jaipur  Rajasthan  2016-05-06  \n",
       "1076709  Jaipur  Rajasthan  2016-05-03  \n",
       "1252696  Jaipur  Rajasthan  2016-05-03  \n",
       "1297293  Jaipur  Rajasthan  2016-05-03  \n",
       "1303002  Jaipur  Rajasthan  2016-05-03  \n",
       "1341460  Jaipur  Rajasthan  2016-05-05  \n",
       "1480943  Jaipur  Rajasthan  2016-05-01  \n",
       "1751405  Jaipur  Rajasthan  2016-05-01  \n",
       "1982469  Jaipur  Rajasthan  2016-05-07  \n",
       "2014653  Jaipur  Rajasthan  2016-05-03  \n",
       "2071401  Jaipur  Rajasthan  2016-05-01  \n",
       "2105453  Jaipur  Rajasthan  2016-05-03  \n",
       "2280255  Jaipur  Rajasthan  2016-05-07  \n",
       "2335369  Jaipur  Rajasthan  2016-05-05  \n",
       "2489592  Jaipur  Rajasthan  2016-05-01  \n",
       "2531834  Jaipur  Rajasthan  2016-05-03  \n",
       "2585554  Jaipur  Rajasthan  2016-05-01  \n",
       "2586055  Jaipur  Rajasthan  2016-05-01  \n",
       "2800109  Jaipur  Rajasthan  2016-05-05  \n",
       "2838175  Jaipur  Rajasthan  2016-05-02  \n",
       "2984574  Jaipur  Rajasthan  2016-05-06  "
      ]
     },
     "execution_count": 241,
     "metadata": {},
     "output_type": "execute_result"
    }
   ],
   "source": [
    "nulldeviceids = df_events[df_events['device_id'].isnull()]\n",
    "z = nulldeviceids.loc[df_events.longitude == 75.846007]\n",
    "z.count()\n",
    "z"
   ]
  },
  {
   "cell_type": "code",
   "execution_count": null,
   "metadata": {},
   "outputs": [],
   "source": [
    "#df_events_data = df_events.copy()\n",
    "#df_events_data.loc[(df_events_data['city'] =='Araria') \\\n",
    "#                   & (df_events_data['longitude'].isnull()),'longitude']= '87.578218'\n",
    "#df_events_data.loc[(df_events_data['city'] =='Araria') \\\n",
    "#                   & (df_events_data['latitude'].isnull()),'latitude']= '26.209851'"
   ]
  },
  {
   "cell_type": "code",
   "execution_count": 148,
   "metadata": {},
   "outputs": [
    {
     "data": {
      "text/plain": [
       "423"
      ]
     },
     "execution_count": 148,
     "metadata": {},
     "output_type": "execute_result"
    }
   ],
   "source": [
    "events_longitude=events_null[events_null['longitude'].isnull()]"
   ]
  },
  {
   "cell_type": "code",
   "execution_count": 165,
   "metadata": {},
   "outputs": [
    {
     "ename": "AttributeError",
     "evalue": "'DataFrame' object has no attribute 'unique'",
     "output_type": "error",
     "traceback": [
      "\u001b[1;31m---------------------------------------------------------------------------\u001b[0m",
      "\u001b[1;31mAttributeError\u001b[0m                            Traceback (most recent call last)",
      "\u001b[1;32m<ipython-input-165-04ba38998d71>\u001b[0m in \u001b[0;36m<module>\u001b[1;34m\u001b[0m\n\u001b[0;32m      2\u001b[0m \u001b[1;33m\u001b[0m\u001b[0m\n\u001b[0;32m      3\u001b[0m \u001b[1;33m\u001b[0m\u001b[0m\n\u001b[1;32m----> 4\u001b[1;33m \u001b[0mdf_events\u001b[0m\u001b[1;33m[\u001b[0m\u001b[1;33m(\u001b[0m\u001b[0mdf_events\u001b[0m\u001b[1;33m[\u001b[0m\u001b[1;34m\"longitude\"\u001b[0m\u001b[1;33m]\u001b[0m \u001b[1;33m==\u001b[0m \u001b[1;36m80.30927199999998\u001b[0m\u001b[1;33m)\u001b[0m\u001b[1;33m]\u001b[0m\u001b[1;33m.\u001b[0m\u001b[0munique\u001b[0m\u001b[1;33m(\u001b[0m\u001b[1;33m)\u001b[0m\u001b[1;33m\u001b[0m\u001b[1;33m\u001b[0m\u001b[0m\n\u001b[0m",
      "\u001b[1;32mc:\\users\\oye\\appdata\\local\\programs\\python\\python37\\lib\\site-packages\\pandas\\core\\generic.py\u001b[0m in \u001b[0;36m__getattr__\u001b[1;34m(self, name)\u001b[0m\n\u001b[0;32m   5177\u001b[0m             \u001b[1;32mif\u001b[0m \u001b[0mself\u001b[0m\u001b[1;33m.\u001b[0m\u001b[0m_info_axis\u001b[0m\u001b[1;33m.\u001b[0m\u001b[0m_can_hold_identifiers_and_holds_name\u001b[0m\u001b[1;33m(\u001b[0m\u001b[0mname\u001b[0m\u001b[1;33m)\u001b[0m\u001b[1;33m:\u001b[0m\u001b[1;33m\u001b[0m\u001b[1;33m\u001b[0m\u001b[0m\n\u001b[0;32m   5178\u001b[0m                 \u001b[1;32mreturn\u001b[0m \u001b[0mself\u001b[0m\u001b[1;33m[\u001b[0m\u001b[0mname\u001b[0m\u001b[1;33m]\u001b[0m\u001b[1;33m\u001b[0m\u001b[1;33m\u001b[0m\u001b[0m\n\u001b[1;32m-> 5179\u001b[1;33m             \u001b[1;32mreturn\u001b[0m \u001b[0mobject\u001b[0m\u001b[1;33m.\u001b[0m\u001b[0m__getattribute__\u001b[0m\u001b[1;33m(\u001b[0m\u001b[0mself\u001b[0m\u001b[1;33m,\u001b[0m \u001b[0mname\u001b[0m\u001b[1;33m)\u001b[0m\u001b[1;33m\u001b[0m\u001b[1;33m\u001b[0m\u001b[0m\n\u001b[0m\u001b[0;32m   5180\u001b[0m \u001b[1;33m\u001b[0m\u001b[0m\n\u001b[0;32m   5181\u001b[0m     \u001b[1;32mdef\u001b[0m \u001b[0m__setattr__\u001b[0m\u001b[1;33m(\u001b[0m\u001b[0mself\u001b[0m\u001b[1;33m,\u001b[0m \u001b[0mname\u001b[0m\u001b[1;33m,\u001b[0m \u001b[0mvalue\u001b[0m\u001b[1;33m)\u001b[0m\u001b[1;33m:\u001b[0m\u001b[1;33m\u001b[0m\u001b[1;33m\u001b[0m\u001b[0m\n",
      "\u001b[1;31mAttributeError\u001b[0m: 'DataFrame' object has no attribute 'unique'"
     ]
    }
   ],
   "source": [
    "df_events_data = df_events.copy()\n",
    "\n",
    "\n",
    "df_events[(df_events[\"longitude\"] == 80.30927199999998)]\n"
   ]
  },
  {
   "cell_type": "code",
   "execution_count": 171,
   "metadata": {},
   "outputs": [
    {
     "data": {
      "text/html": [
       "<div>\n",
       "<style scoped>\n",
       "    .dataframe tbody tr th:only-of-type {\n",
       "        vertical-align: middle;\n",
       "    }\n",
       "\n",
       "    .dataframe tbody tr th {\n",
       "        vertical-align: top;\n",
       "    }\n",
       "\n",
       "    .dataframe thead th {\n",
       "        text-align: right;\n",
       "    }\n",
       "</style>\n",
       "<table border=\"1\" class=\"dataframe\">\n",
       "  <thead>\n",
       "    <tr style=\"text-align: right;\">\n",
       "      <th></th>\n",
       "      <th>device_id</th>\n",
       "      <th>Group_Count</th>\n",
       "    </tr>\n",
       "  </thead>\n",
       "  <tbody>\n",
       "    <tr>\n",
       "      <th>0</th>\n",
       "      <td>5.036611e+13</td>\n",
       "      <td>1</td>\n",
       "    </tr>\n",
       "    <tr>\n",
       "      <th>1</th>\n",
       "      <td>1.226564e+14</td>\n",
       "      <td>2</td>\n",
       "    </tr>\n",
       "    <tr>\n",
       "      <th>2</th>\n",
       "      <td>2.369780e+14</td>\n",
       "      <td>13</td>\n",
       "    </tr>\n",
       "    <tr>\n",
       "      <th>3</th>\n",
       "      <td>2.909557e+14</td>\n",
       "      <td>6</td>\n",
       "    </tr>\n",
       "    <tr>\n",
       "      <th>4</th>\n",
       "      <td>4.566137e+14</td>\n",
       "      <td>75</td>\n",
       "    </tr>\n",
       "    <tr>\n",
       "      <th>...</th>\n",
       "      <td>...</td>\n",
       "      <td>...</td>\n",
       "    </tr>\n",
       "    <tr>\n",
       "      <th>60860</th>\n",
       "      <td>9.221843e+18</td>\n",
       "      <td>17</td>\n",
       "    </tr>\n",
       "    <tr>\n",
       "      <th>60861</th>\n",
       "      <td>9.222173e+18</td>\n",
       "      <td>20</td>\n",
       "    </tr>\n",
       "    <tr>\n",
       "      <th>60862</th>\n",
       "      <td>9.222755e+18</td>\n",
       "      <td>1</td>\n",
       "    </tr>\n",
       "    <tr>\n",
       "      <th>60863</th>\n",
       "      <td>9.222849e+18</td>\n",
       "      <td>2</td>\n",
       "    </tr>\n",
       "    <tr>\n",
       "      <th>60864</th>\n",
       "      <td>9.222957e+18</td>\n",
       "      <td>65</td>\n",
       "    </tr>\n",
       "  </tbody>\n",
       "</table>\n",
       "<p>60865 rows × 2 columns</p>\n",
       "</div>"
      ],
      "text/plain": [
       "          device_id  Group_Count\n",
       "0      5.036611e+13            1\n",
       "1      1.226564e+14            2\n",
       "2      2.369780e+14           13\n",
       "3      2.909557e+14            6\n",
       "4      4.566137e+14           75\n",
       "...             ...          ...\n",
       "60860  9.221843e+18           17\n",
       "60861  9.222173e+18           20\n",
       "60862  9.222755e+18            1\n",
       "60863  9.222849e+18            2\n",
       "60864  9.222957e+18           65\n",
       "\n",
       "[60865 rows x 2 columns]"
      ]
     },
     "execution_count": 171,
     "metadata": {},
     "output_type": "execute_result"
    }
   ],
   "source": [
    "t = df_events.groupby('device_id')\n",
    "pd.DataFrame(t.size().reset_index(name = \"Group_Count\"))\n"
   ]
  },
  {
   "cell_type": "code",
   "execution_count": 149,
   "metadata": {},
   "outputs": [
    {
     "ename": "TypeError",
     "evalue": "'Series' object is not callable",
     "output_type": "error",
     "traceback": [
      "\u001b[1;31m---------------------------------------------------------------------------\u001b[0m",
      "\u001b[1;31mTypeError\u001b[0m                                 Traceback (most recent call last)",
      "\u001b[1;32m<ipython-input-149-4ec1cc3f3395>\u001b[0m in \u001b[0;36m<module>\u001b[1;34m\u001b[0m\n\u001b[0;32m      4\u001b[0m     df_events_data.loc[(df_events_data['city'] == city) \\\n\u001b[0;32m      5\u001b[0m                    (df_events_data['longitude'].isnull()),'longitude'] = \\\n\u001b[1;32m----> 6\u001b[1;33m                     \u001b[0mdf_events_data\u001b[0m\u001b[1;33m[\u001b[0m\u001b[1;34m'longitude'\u001b[0m\u001b[1;33m]\u001b[0m\u001b[1;33m[\u001b[0m\u001b[0mdf_events_data\u001b[0m\u001b[1;33m[\u001b[0m\u001b[1;34m'city'\u001b[0m\u001b[1;33m]\u001b[0m\u001b[1;33m==\u001b[0m\u001b[0mcity\u001b[0m\u001b[1;33m]\u001b[0m\u001b[1;33m.\u001b[0m\u001b[0mmean\u001b[0m\u001b[1;33m(\u001b[0m\u001b[1;33m)\u001b[0m\u001b[1;33m\u001b[0m\u001b[1;33m\u001b[0m\u001b[0m\n\u001b[0m\u001b[0;32m      7\u001b[0m     df_events_data.loc[(df_events_data['city'] ==city) \\\n\u001b[0;32m      8\u001b[0m                    (df_events_data['latitude'].isnull()),'latitude'] = \\\n",
      "\u001b[1;31mTypeError\u001b[0m: 'Series' object is not callable"
     ]
    }
   ],
   "source": [
    "cityist_latlong = ['Delhi', 'Indore', 'Visakhapatnam', 'Chennai', 'Pune', 'Jaipur', 'Araria', 'Moga', 'Bagaha' ]\n",
    "\n",
    "for city in cityist_latlong:\n",
    "    df_events_data.loc[(df_events_data['city'] == city) \\\n",
    "                   (df_events_data['longitude'].isnull()),'longitude'] = \\\n",
    "                    df_events_data['longitude'][df_events_data['city']==city].mean()\n",
    "    df_events_data.loc[(df_events_data['city'] ==city) \\\n",
    "                   (df_events_data['latitude'].isnull()),'latitude'] = \\\n",
    "                    df_events_data['longitude'][df_events_data['city']==city].mean()\n",
    "\n",
    "df_events_data['longitude'].isnull().sum()"
   ]
  },
  {
   "cell_type": "code",
   "execution_count": 41,
   "metadata": {},
   "outputs": [],
   "source": [
    "\n",
    "events_longitude['longitude'].mask(events_longitude['city'] == 'Delhi', \n",
    "                                   df_events['longitude'][df_events['city']=='Delhi'].mean(), inplace=True)\n",
    "events_longitude['latitude'].mask(events_longitude['city'] == 'Delhi', \n",
    "                                  df_events['latitude'][df_events['city']=='Delhi'].mean(), inplace=True)\n",
    "events_longitude['longitude'].mask(events_longitude['city'] == 'Indore', \n",
    "                                   df_events['longitude'][df_events['city']=='Indore'].mean(), inplace=True)\n",
    "events_longitude['latitude'].mask(events_longitude['city'] == 'Indore', \n",
    "                                  df_events['latitude'][df_events['city']=='Indore'].mean(), inplace=True)"
   ]
  },
  {
   "cell_type": "code",
   "execution_count": 42,
   "metadata": {},
   "outputs": [],
   "source": [
    "events_longitude['longitude'].mask(events_longitude['city'] == 'Visakhapatnam', \n",
    "                                   df_events['longitude'][df_events['city']=='Visakhapatnam'].mean(), inplace=True)\n",
    "events_longitude['latitude'].mask(events_longitude['city'] == 'Visakhapatnam', \n",
    "                                  df_events['latitude'][df_events['city']=='Visakhapatnam'].mean(), inplace=True)\n",
    "events_longitude['longitude'].mask(events_longitude['city'] == 'Chennai', \n",
    "                                   df_events['longitude'][df_events['city']=='Chennai'].mean(), inplace=True)\n",
    "events_longitude['latitude'].mask(events_longitude['city'] == 'Chennai', \n",
    "                                  df_events['latitude'][df_events['city']=='Chennai'].mean(), inplace=True)"
   ]
  },
  {
   "cell_type": "code",
   "execution_count": 43,
   "metadata": {},
   "outputs": [],
   "source": [
    "events_longitude['longitude'].mask(events_longitude['city'] == 'Pune', \n",
    "                                   df_events['longitude'][df_events['city']=='Pune'].mean(), inplace=True)\n",
    "events_longitude['latitude'].mask(events_longitude['city'] == 'Pune', \n",
    "                                  df_events['latitude'][df_events['city']=='Pune'].mean(), inplace=True)\n",
    "events_longitude['longitude'].mask(events_longitude['city'] == 'Jaipur', \n",
    "                                   df_events['longitude'][df_events['city']=='Jaipur'].mean(), inplace=True)\n",
    "events_longitude['latitude'].mask(events_longitude['city'] == 'Jaipur', \n",
    "                                  df_events['latitude'][df_events['city']=='Jaipur'].mean(), inplace=True)\n",
    "events_longitude['longitude'].mask(events_longitude['city'] == 'Araria', \n",
    "                                   df_events['longitude'][df_events['city']=='Araria'].mean(), inplace=True)\n",
    "events_longitude['latitude'].mask(events_longitude['city'] == 'Araria', \n",
    "                                  df_events['latitude'][df_events['city']=='Araria'].mean(), inplace=True)\n",
    "events_longitude['longitude'].mask(events_longitude['city'] == 'Moga', \n",
    "                                   df_events['longitude'][df_events['city']=='Moga'].mean(), inplace=True)\n",
    "events_longitude['latitude'].mask(events_longitude['city'] == 'Moga', \n",
    "                                  df_events['latitude'][df_events['city']=='Moga'].mean(), inplace=True)\n",
    "events_longitude['longitude'].mask(events_longitude['city'] == 'Bagaha', \n",
    "                                   df_events['longitude'][df_events['city']=='Bagaha'].mean(), inplace=True)\n",
    "events_longitude['latitude'].mask(events_longitude['city'] == 'Bagaha', \n",
    "                                  df_events['latitude'][df_events['city']=='Bagaha'].mean(), inplace=True)"
   ]
  },
  {
   "cell_type": "code",
   "execution_count": 44,
   "metadata": {},
   "outputs": [
    {
     "data": {
      "text/plain": [
       "array(['Delhi', 'Indore', 'Visakhapatnam', 'Chennai', 'Pune', 'Jaipur',\n",
       "       'Araria', 'Moga', 'Bagaha'], dtype=object)"
      ]
     },
     "execution_count": 44,
     "metadata": {},
     "output_type": "execute_result"
    }
   ],
   "source": [
    "events_longitude['city'].unique()"
   ]
  },
  {
   "cell_type": "code",
   "execution_count": 45,
   "metadata": {},
   "outputs": [
    {
     "data": {
      "text/plain": [
       "0"
      ]
     },
     "execution_count": 45,
     "metadata": {},
     "output_type": "execute_result"
    }
   ],
   "source": [
    "events_longitude['state'].isnull().sum()"
   ]
  },
  {
   "cell_type": "code",
   "execution_count": 46,
   "metadata": {},
   "outputs": [
    {
     "data": {
      "text/plain": [
       "0"
      ]
     },
     "execution_count": 46,
     "metadata": {},
     "output_type": "execute_result"
    }
   ],
   "source": [
    "events_longitude['device_id'].isnull().sum()"
   ]
  },
  {
   "cell_type": "code",
   "execution_count": 47,
   "metadata": {},
   "outputs": [
    {
     "data": {
      "text/html": [
       "<div>\n",
       "<style scoped>\n",
       "    .dataframe tbody tr th:only-of-type {\n",
       "        vertical-align: middle;\n",
       "    }\n",
       "\n",
       "    .dataframe tbody tr th {\n",
       "        vertical-align: top;\n",
       "    }\n",
       "\n",
       "    .dataframe thead th {\n",
       "        text-align: right;\n",
       "    }\n",
       "</style>\n",
       "<table border=\"1\" class=\"dataframe\">\n",
       "  <thead>\n",
       "    <tr style=\"text-align: right;\">\n",
       "      <th></th>\n",
       "      <th>event_id</th>\n",
       "      <th>device_id</th>\n",
       "      <th>timestamp</th>\n",
       "      <th>longitude</th>\n",
       "      <th>latitude</th>\n",
       "      <th>city</th>\n",
       "      <th>state</th>\n",
       "      <th>Event_Date</th>\n",
       "    </tr>\n",
       "  </thead>\n",
       "  <tbody>\n",
       "    <tr>\n",
       "      <th>8015</th>\n",
       "      <td>2929521</td>\n",
       "      <td>1.779631e+18</td>\n",
       "      <td>2016-05-05 01:15:22</td>\n",
       "      <td>77.265087</td>\n",
       "      <td>28.725504</td>\n",
       "      <td>Delhi</td>\n",
       "      <td>Delhi</td>\n",
       "      <td>2016-05-05</td>\n",
       "    </tr>\n",
       "    <tr>\n",
       "      <th>9697</th>\n",
       "      <td>1017749</td>\n",
       "      <td>8.790560e+18</td>\n",
       "      <td>2016-05-03 17:22:52</td>\n",
       "      <td>75.915123</td>\n",
       "      <td>22.776007</td>\n",
       "      <td>Indore</td>\n",
       "      <td>MadhyaPradesh</td>\n",
       "      <td>2016-05-03</td>\n",
       "    </tr>\n",
       "    <tr>\n",
       "      <th>10949</th>\n",
       "      <td>2132415</td>\n",
       "      <td>4.865607e+18</td>\n",
       "      <td>2016-05-07 19:57:06</td>\n",
       "      <td>83.353957</td>\n",
       "      <td>17.785285</td>\n",
       "      <td>Visakhapatnam</td>\n",
       "      <td>AndhraPradesh</td>\n",
       "      <td>2016-05-07</td>\n",
       "    </tr>\n",
       "    <tr>\n",
       "      <th>16038</th>\n",
       "      <td>926804</td>\n",
       "      <td>7.983871e+18</td>\n",
       "      <td>2016-05-03 12:29:47</td>\n",
       "      <td>80.327087</td>\n",
       "      <td>13.143763</td>\n",
       "      <td>Chennai</td>\n",
       "      <td>TamilNadu</td>\n",
       "      <td>2016-05-03</td>\n",
       "    </tr>\n",
       "    <tr>\n",
       "      <th>20586</th>\n",
       "      <td>3074782</td>\n",
       "      <td>7.364841e+18</td>\n",
       "      <td>2016-05-04 19:39:28</td>\n",
       "      <td>73.893955</td>\n",
       "      <td>18.585192</td>\n",
       "      <td>Pune</td>\n",
       "      <td>Maharashtra</td>\n",
       "      <td>2016-05-04</td>\n",
       "    </tr>\n",
       "  </tbody>\n",
       "</table>\n",
       "</div>"
      ],
      "text/plain": [
       "       event_id     device_id            timestamp  longitude   latitude  \\\n",
       "8015    2929521  1.779631e+18  2016-05-05 01:15:22  77.265087  28.725504   \n",
       "9697    1017749  8.790560e+18  2016-05-03 17:22:52  75.915123  22.776007   \n",
       "10949   2132415  4.865607e+18  2016-05-07 19:57:06  83.353957  17.785285   \n",
       "16038    926804  7.983871e+18  2016-05-03 12:29:47  80.327087  13.143763   \n",
       "20586   3074782  7.364841e+18  2016-05-04 19:39:28  73.893955  18.585192   \n",
       "\n",
       "                city          state  Event_Date  \n",
       "8015           Delhi          Delhi  2016-05-05  \n",
       "9697          Indore  MadhyaPradesh  2016-05-03  \n",
       "10949  Visakhapatnam  AndhraPradesh  2016-05-07  \n",
       "16038        Chennai      TamilNadu  2016-05-03  \n",
       "20586           Pune    Maharashtra  2016-05-04  "
      ]
     },
     "execution_count": 47,
     "metadata": {},
     "output_type": "execute_result"
    }
   ],
   "source": [
    "events_longitude.head()\n",
    "#events_longitude.count()"
   ]
  },
  {
   "cell_type": "code",
   "execution_count": 81,
   "metadata": {},
   "outputs": [
    {
     "data": {
      "text/plain": [
       "device_id       0\n",
       "phone_brand     0\n",
       "device_model    0\n",
       "dtype: int64"
      ]
     },
     "execution_count": 81,
     "metadata": {},
     "output_type": "execute_result"
    }
   ],
   "source": [
    "#now we have 3 sets- again cross check if there any nulls\n",
    "phone_brand_device_model_data = df_ph_brand_model.copy()\n",
    "phone_brand_device_model_data.isnull().sum()"
   ]
  },
  {
   "cell_type": "code",
   "execution_count": 49,
   "metadata": {},
   "outputs": [
    {
     "data": {
      "text/plain": [
       "device_id           0\n",
       "gender              0\n",
       "age                 0\n",
       "group               0\n",
       "agegroup_by_name    0\n",
       "dtype: int64"
      ]
     },
     "execution_count": 49,
     "metadata": {},
     "output_type": "execute_result"
    }
   ],
   "source": [
    "gender_age_data = df_gender_age.copy()\n",
    "gender_age_data.isnull().sum()"
   ]
  },
  {
   "cell_type": "code",
   "execution_count": 47,
   "metadata": {},
   "outputs": [],
   "source": [
    "phone_brand_device_model_data.to_csv(\"changed_phdm.csv\")"
   ]
  },
  {
   "cell_type": "code",
   "execution_count": 49,
   "metadata": {},
   "outputs": [],
   "source": [
    "gender_age_data.to_csv(\"changed_ga.csv\")"
   ]
  },
  {
   "cell_type": "code",
   "execution_count": 50,
   "metadata": {},
   "outputs": [
    {
     "data": {
      "text/html": [
       "<div>\n",
       "<style scoped>\n",
       "    .dataframe tbody tr th:only-of-type {\n",
       "        vertical-align: middle;\n",
       "    }\n",
       "\n",
       "    .dataframe tbody tr th {\n",
       "        vertical-align: top;\n",
       "    }\n",
       "\n",
       "    .dataframe thead th {\n",
       "        text-align: right;\n",
       "    }\n",
       "</style>\n",
       "<table border=\"1\" class=\"dataframe\">\n",
       "  <thead>\n",
       "    <tr style=\"text-align: right;\">\n",
       "      <th></th>\n",
       "      <th>event_id</th>\n",
       "      <th>device_id</th>\n",
       "      <th>timestamp</th>\n",
       "      <th>longitude</th>\n",
       "      <th>latitude</th>\n",
       "      <th>city</th>\n",
       "      <th>state</th>\n",
       "      <th>Event_Date</th>\n",
       "    </tr>\n",
       "  </thead>\n",
       "  <tbody>\n",
       "    <tr>\n",
       "      <th>8015</th>\n",
       "      <td>2929521</td>\n",
       "      <td>1.779631e+18</td>\n",
       "      <td>2016-05-05 01:15:22</td>\n",
       "      <td>77.265087</td>\n",
       "      <td>28.725504</td>\n",
       "      <td>Delhi</td>\n",
       "      <td>Delhi</td>\n",
       "      <td>2016-05-05</td>\n",
       "    </tr>\n",
       "    <tr>\n",
       "      <th>9697</th>\n",
       "      <td>1017749</td>\n",
       "      <td>8.790560e+18</td>\n",
       "      <td>2016-05-03 17:22:52</td>\n",
       "      <td>75.915123</td>\n",
       "      <td>22.776007</td>\n",
       "      <td>Indore</td>\n",
       "      <td>MadhyaPradesh</td>\n",
       "      <td>2016-05-03</td>\n",
       "    </tr>\n",
       "    <tr>\n",
       "      <th>10949</th>\n",
       "      <td>2132415</td>\n",
       "      <td>4.865607e+18</td>\n",
       "      <td>2016-05-07 19:57:06</td>\n",
       "      <td>83.353957</td>\n",
       "      <td>17.785285</td>\n",
       "      <td>Visakhapatnam</td>\n",
       "      <td>AndhraPradesh</td>\n",
       "      <td>2016-05-07</td>\n",
       "    </tr>\n",
       "    <tr>\n",
       "      <th>16038</th>\n",
       "      <td>926804</td>\n",
       "      <td>7.983871e+18</td>\n",
       "      <td>2016-05-03 12:29:47</td>\n",
       "      <td>80.327087</td>\n",
       "      <td>13.143763</td>\n",
       "      <td>Chennai</td>\n",
       "      <td>TamilNadu</td>\n",
       "      <td>2016-05-03</td>\n",
       "    </tr>\n",
       "    <tr>\n",
       "      <th>20586</th>\n",
       "      <td>3074782</td>\n",
       "      <td>7.364841e+18</td>\n",
       "      <td>2016-05-04 19:39:28</td>\n",
       "      <td>73.893955</td>\n",
       "      <td>18.585192</td>\n",
       "      <td>Pune</td>\n",
       "      <td>Maharashtra</td>\n",
       "      <td>2016-05-04</td>\n",
       "    </tr>\n",
       "  </tbody>\n",
       "</table>\n",
       "</div>"
      ],
      "text/plain": [
       "       event_id     device_id            timestamp  longitude   latitude  \\\n",
       "8015    2929521  1.779631e+18  2016-05-05 01:15:22  77.265087  28.725504   \n",
       "9697    1017749  8.790560e+18  2016-05-03 17:22:52  75.915123  22.776007   \n",
       "10949   2132415  4.865607e+18  2016-05-07 19:57:06  83.353957  17.785285   \n",
       "16038    926804  7.983871e+18  2016-05-03 12:29:47  80.327087  13.143763   \n",
       "20586   3074782  7.364841e+18  2016-05-04 19:39:28  73.893955  18.585192   \n",
       "\n",
       "                city          state  Event_Date  \n",
       "8015           Delhi          Delhi  2016-05-05  \n",
       "9697          Indore  MadhyaPradesh  2016-05-03  \n",
       "10949  Visakhapatnam  AndhraPradesh  2016-05-07  \n",
       "16038        Chennai      TamilNadu  2016-05-03  \n",
       "20586           Pune    Maharashtra  2016-05-04  "
      ]
     },
     "execution_count": 50,
     "metadata": {},
     "output_type": "execute_result"
    }
   ],
   "source": [
    "events_longitude.head()"
   ]
  },
  {
   "cell_type": "code",
   "execution_count": 51,
   "metadata": {},
   "outputs": [
    {
     "data": {
      "text/html": [
       "<div>\n",
       "<style scoped>\n",
       "    .dataframe tbody tr th:only-of-type {\n",
       "        vertical-align: middle;\n",
       "    }\n",
       "\n",
       "    .dataframe tbody tr th {\n",
       "        vertical-align: top;\n",
       "    }\n",
       "\n",
       "    .dataframe thead th {\n",
       "        text-align: right;\n",
       "    }\n",
       "</style>\n",
       "<table border=\"1\" class=\"dataframe\">\n",
       "  <thead>\n",
       "    <tr style=\"text-align: right;\">\n",
       "      <th></th>\n",
       "      <th>event_id</th>\n",
       "      <th>device_id</th>\n",
       "      <th>timestamp</th>\n",
       "      <th>longitude</th>\n",
       "      <th>latitude</th>\n",
       "      <th>city</th>\n",
       "      <th>state</th>\n",
       "      <th>Event_Date</th>\n",
       "    </tr>\n",
       "  </thead>\n",
       "  <tbody>\n",
       "    <tr>\n",
       "      <th>2931</th>\n",
       "      <td>706554</td>\n",
       "      <td>5.829328e+18</td>\n",
       "      <td>2016-05-05 16:58:46</td>\n",
       "      <td>73.851671</td>\n",
       "      <td>18.593313</td>\n",
       "      <td>Pune</td>\n",
       "      <td>Maharashtra</td>\n",
       "      <td>2016-05-05</td>\n",
       "    </tr>\n",
       "    <tr>\n",
       "      <th>16243</th>\n",
       "      <td>1918653</td>\n",
       "      <td>3.137054e+18</td>\n",
       "      <td>2016-05-03 00:46:10</td>\n",
       "      <td>83.326714</td>\n",
       "      <td>17.829748</td>\n",
       "      <td>Visakhapatnam</td>\n",
       "      <td>AndhraPradesh</td>\n",
       "      <td>2016-05-03</td>\n",
       "    </tr>\n",
       "    <tr>\n",
       "      <th>26956</th>\n",
       "      <td>1068940</td>\n",
       "      <td>1.752057e+18</td>\n",
       "      <td>2016-05-04 16:09:17</td>\n",
       "      <td>75.930969</td>\n",
       "      <td>22.818845</td>\n",
       "      <td>Indore</td>\n",
       "      <td>MadhyaPradesh</td>\n",
       "      <td>2016-05-04</td>\n",
       "    </tr>\n",
       "    <tr>\n",
       "      <th>30889</th>\n",
       "      <td>2164200</td>\n",
       "      <td>3.945827e+17</td>\n",
       "      <td>2016-05-04 19:33:09</td>\n",
       "      <td>83.366564</td>\n",
       "      <td>17.757190</td>\n",
       "      <td>Visakhapatnam</td>\n",
       "      <td>AndhraPradesh</td>\n",
       "      <td>2016-05-04</td>\n",
       "    </tr>\n",
       "    <tr>\n",
       "      <th>32685</th>\n",
       "      <td>460124</td>\n",
       "      <td>5.536513e+18</td>\n",
       "      <td>2016-05-01 21:30:10</td>\n",
       "      <td>80.359796</td>\n",
       "      <td>13.128174</td>\n",
       "      <td>Chennai</td>\n",
       "      <td>TamilNadu</td>\n",
       "      <td>2016-05-01</td>\n",
       "    </tr>\n",
       "  </tbody>\n",
       "</table>\n",
       "</div>"
      ],
      "text/plain": [
       "       event_id     device_id            timestamp  longitude   latitude  \\\n",
       "2931     706554  5.829328e+18  2016-05-05 16:58:46  73.851671  18.593313   \n",
       "16243   1918653  3.137054e+18  2016-05-03 00:46:10  83.326714  17.829748   \n",
       "26956   1068940  1.752057e+18  2016-05-04 16:09:17  75.930969  22.818845   \n",
       "30889   2164200  3.945827e+17  2016-05-04 19:33:09  83.366564  17.757190   \n",
       "32685    460124  5.536513e+18  2016-05-01 21:30:10  80.359796  13.128174   \n",
       "\n",
       "                city          state  Event_Date  \n",
       "2931            Pune    Maharashtra  2016-05-05  \n",
       "16243  Visakhapatnam  AndhraPradesh  2016-05-03  \n",
       "26956         Indore  MadhyaPradesh  2016-05-04  \n",
       "30889  Visakhapatnam  AndhraPradesh  2016-05-04  \n",
       "32685        Chennai      TamilNadu  2016-05-01  "
      ]
     },
     "execution_count": 51,
     "metadata": {},
     "output_type": "execute_result"
    }
   ],
   "source": [
    "events_state.head()"
   ]
  },
  {
   "cell_type": "code",
   "execution_count": null,
   "metadata": {},
   "outputs": [],
   "source": []
  },
  {
   "cell_type": "code",
   "execution_count": 582,
   "metadata": {},
   "outputs": [
    {
     "data": {
      "text/plain": [
       "event_id      0\n",
       "device_id     0\n",
       "timestamp     0\n",
       "longitude     0\n",
       "latitude      0\n",
       "city          0\n",
       "state         0\n",
       "Event_Date    0\n",
       "dtype: int64"
      ]
     },
     "execution_count": 582,
     "metadata": {},
     "output_type": "execute_result"
    }
   ],
   "source": [
    "\n",
    "events_data = df_events_copy.copy()\n",
    "events_data.isnull().sum()\n",
    "\n",
    "#Here we have to replace events_longitude data in the events_data\n"
   ]
  },
  {
   "cell_type": "markdown",
   "metadata": {},
   "source": [
    "### Merge the datasets\n"
   ]
  },
  {
   "cell_type": "code",
   "execution_count": 583,
   "metadata": {},
   "outputs": [
    {
     "data": {
      "text/plain": [
       "device_id       87726\n",
       "phone_brand     87726\n",
       "device_model    87726\n",
       "dtype: int64"
      ]
     },
     "execution_count": 583,
     "metadata": {},
     "output_type": "execute_result"
    }
   ],
   "source": [
    "#Should we do the merge on outer or inner\n",
    "phone_brand_device_model_data.count()\n",
    "#outer will have all records\n"
   ]
  },
  {
   "cell_type": "code",
   "execution_count": 584,
   "metadata": {},
   "outputs": [
    {
     "data": {
      "text/plain": [
       "device_id           74645\n",
       "gender              74645\n",
       "age                 74645\n",
       "group               74645\n",
       "agegroup_by_name    74645\n",
       "dtype: int64"
      ]
     },
     "execution_count": 584,
     "metadata": {},
     "output_type": "execute_result"
    }
   ],
   "source": [
    "gender_age_data.count()"
   ]
  },
  {
   "cell_type": "code",
   "execution_count": 55,
   "metadata": {},
   "outputs": [
    {
     "data": {
      "text/html": [
       "<div>\n",
       "<style scoped>\n",
       "    .dataframe tbody tr th:only-of-type {\n",
       "        vertical-align: middle;\n",
       "    }\n",
       "\n",
       "    .dataframe tbody tr th {\n",
       "        vertical-align: top;\n",
       "    }\n",
       "\n",
       "    .dataframe thead th {\n",
       "        text-align: right;\n",
       "    }\n",
       "</style>\n",
       "<table border=\"1\" class=\"dataframe\">\n",
       "  <thead>\n",
       "    <tr style=\"text-align: right;\">\n",
       "      <th></th>\n",
       "      <th>event_id</th>\n",
       "      <th>device_id</th>\n",
       "      <th>timestamp</th>\n",
       "      <th>longitude</th>\n",
       "      <th>latitude</th>\n",
       "      <th>city</th>\n",
       "      <th>state</th>\n",
       "      <th>Event_Date</th>\n",
       "    </tr>\n",
       "  </thead>\n",
       "  <tbody>\n",
       "    <tr>\n",
       "      <th>0</th>\n",
       "      <td>2765368</td>\n",
       "      <td>2.973348e+18</td>\n",
       "      <td>2016-05-07 22:52:05</td>\n",
       "      <td>77.225676</td>\n",
       "      <td>28.730140</td>\n",
       "      <td>Delhi</td>\n",
       "      <td>Delhi</td>\n",
       "      <td>2016-05-07</td>\n",
       "    </tr>\n",
       "    <tr>\n",
       "      <th>1</th>\n",
       "      <td>2955066</td>\n",
       "      <td>4.734221e+18</td>\n",
       "      <td>2016-05-01 20:44:16</td>\n",
       "      <td>88.388361</td>\n",
       "      <td>22.660325</td>\n",
       "      <td>Calcutta</td>\n",
       "      <td>WestBengal</td>\n",
       "      <td>2016-05-01</td>\n",
       "    </tr>\n",
       "    <tr>\n",
       "      <th>2</th>\n",
       "      <td>605968</td>\n",
       "      <td>3.264500e+18</td>\n",
       "      <td>2016-05-02 14:23:04</td>\n",
       "      <td>77.256809</td>\n",
       "      <td>28.757906</td>\n",
       "      <td>Delhi</td>\n",
       "      <td>Delhi</td>\n",
       "      <td>2016-05-02</td>\n",
       "    </tr>\n",
       "    <tr>\n",
       "      <th>3</th>\n",
       "      <td>448114</td>\n",
       "      <td>5.731369e+18</td>\n",
       "      <td>2016-05-03 13:21:16</td>\n",
       "      <td>80.343613</td>\n",
       "      <td>13.153332</td>\n",
       "      <td>Chennai</td>\n",
       "      <td>TamilNadu</td>\n",
       "      <td>2016-05-03</td>\n",
       "    </tr>\n",
       "    <tr>\n",
       "      <th>4</th>\n",
       "      <td>665740</td>\n",
       "      <td>3.388880e+17</td>\n",
       "      <td>2016-05-06 03:51:05</td>\n",
       "      <td>85.997745</td>\n",
       "      <td>23.842609</td>\n",
       "      <td>Bokaro</td>\n",
       "      <td>Jharkhand</td>\n",
       "      <td>2016-05-06</td>\n",
       "    </tr>\n",
       "  </tbody>\n",
       "</table>\n",
       "</div>"
      ],
      "text/plain": [
       "   event_id     device_id            timestamp  longitude   latitude  \\\n",
       "0   2765368  2.973348e+18  2016-05-07 22:52:05  77.225676  28.730140   \n",
       "1   2955066  4.734221e+18  2016-05-01 20:44:16  88.388361  22.660325   \n",
       "2    605968  3.264500e+18  2016-05-02 14:23:04  77.256809  28.757906   \n",
       "3    448114  5.731369e+18  2016-05-03 13:21:16  80.343613  13.153332   \n",
       "4    665740  3.388880e+17  2016-05-06 03:51:05  85.997745  23.842609   \n",
       "\n",
       "       city       state  Event_Date  \n",
       "0     Delhi       Delhi  2016-05-07  \n",
       "1  Calcutta  WestBengal  2016-05-01  \n",
       "2     Delhi       Delhi  2016-05-02  \n",
       "3   Chennai   TamilNadu  2016-05-03  \n",
       "4    Bokaro   Jharkhand  2016-05-06  "
      ]
     },
     "execution_count": 55,
     "metadata": {},
     "output_type": "execute_result"
    }
   ],
   "source": [
    "#***********TBD******************\n",
    "\n",
    "#sai - we need to merge the records of events_longitude and events_state to be merged with df_events\n",
    "df_events.head()"
   ]
  },
  {
   "cell_type": "code",
   "execution_count": 585,
   "metadata": {},
   "outputs": [
    {
     "data": {
      "text/plain": [
       "device_id       184\n",
       "phone_brand     184\n",
       "device_model    184\n",
       "dtype: int64"
      ]
     },
     "execution_count": 585,
     "metadata": {},
     "output_type": "execute_result"
    }
   ],
   "source": [
    "#Device ID in phone_brand_device_model_data is it present in events_data, \n",
    "#same we have to check for gender_age_data Device_id presence in Events_data\n",
    "\n",
    "#phone_brand_device_model_data = phone_brand_device_model_data['device_id'].isin(events_data['device_id'])\n",
    "df = phone_brand_device_model_data.copy()\n",
    "\n",
    "df = df[df['device_id'].isin(events_data['device_id'])]\n",
    "df.count()\n"
   ]
  },
  {
   "cell_type": "code",
   "execution_count": 586,
   "metadata": {},
   "outputs": [
    {
     "data": {
      "text/plain": [
       "device_id           184\n",
       "gender              184\n",
       "age                 184\n",
       "group               184\n",
       "agegroup_by_name    184\n",
       "dtype: int64"
      ]
     },
     "execution_count": 586,
     "metadata": {},
     "output_type": "execute_result"
    }
   ],
   "source": [
    "df_g = gender_age_data.copy()\n",
    "\n",
    "df_g = df_g[df_g['device_id'].isin(events_data['device_id'])]\n",
    "df_g.count()\n",
    "\n"
   ]
  },
  {
   "cell_type": "code",
   "execution_count": 587,
   "metadata": {},
   "outputs": [
    {
     "data": {
      "text/plain": [
       "74645"
      ]
     },
     "execution_count": 587,
     "metadata": {},
     "output_type": "execute_result"
    }
   ],
   "source": [
    "\n",
    "df1 = phone_brand_device_model_data.copy()\n",
    "df2 = gender_age_data.copy()\n",
    "#df1 = df1[df1['device_id'].isin(df2['device_id'])]\n",
    "#print(abs(df2['device_id'].count()-df1['device_id'].count()))\n",
    "gender_age_data['device_id'].count()"
   ]
  },
  {
   "cell_type": "code",
   "execution_count": 588,
   "metadata": {},
   "outputs": [
    {
     "data": {
      "text/plain": [
       "device_id       87726\n",
       "phone_brand     87726\n",
       "device_model    87726\n",
       "dtype: int64"
      ]
     },
     "execution_count": 588,
     "metadata": {},
     "output_type": "execute_result"
    }
   ],
   "source": [
    "phone_brand_device_model_data.count()"
   ]
  },
  {
   "cell_type": "code",
   "execution_count": 589,
   "metadata": {},
   "outputs": [
    {
     "data": {
      "text/plain": [
       "3252950"
      ]
     },
     "execution_count": 589,
     "metadata": {},
     "output_type": "execute_result"
    }
   ],
   "source": [
    "events_data['device_id'].count()"
   ]
  },
  {
   "cell_type": "code",
   "execution_count": 590,
   "metadata": {},
   "outputs": [
    {
     "data": {
      "text/plain": [
       "device_id           87726\n",
       "phone_brand         87726\n",
       "device_model        87726\n",
       "gender              74617\n",
       "age                 74617\n",
       "group               74617\n",
       "agegroup_by_name    74617\n",
       "dtype: int64"
      ]
     },
     "execution_count": 590,
     "metadata": {},
     "output_type": "execute_result"
    }
   ],
   "source": [
    "\n",
    "#Check all unique device_id in Events Table which are not present in othe table's device_id\n",
    "phone_age_merge = pd.merge(phone_brand_device_model_data, gender_age_data,on='device_id',how='left')\n",
    "\n",
    "\n",
    "phone_age_merge.isnull().sum()\n",
    "phone_age_merge.count()"
   ]
  },
  {
   "cell_type": "code",
   "execution_count": 591,
   "metadata": {},
   "outputs": [
    {
     "data": {
      "text/plain": [
       "event_id            3252950\n",
       "device_id           3252950\n",
       "timestamp           3252950\n",
       "longitude           3252950\n",
       "latitude            3252950\n",
       "city                3252950\n",
       "state               3252950\n",
       "Event_Date          3252950\n",
       "phone_brand            8855\n",
       "device_model           8855\n",
       "gender                 8855\n",
       "age                    8855\n",
       "group                  8855\n",
       "agegroup_by_name       8855\n",
       "dtype: int64"
      ]
     },
     "execution_count": 591,
     "metadata": {},
     "output_type": "execute_result"
    }
   ],
   "source": [
    "\n",
    "\n",
    "event_phone_gender_merge = pd.merge(events_data, phone_age_merge ,on='device_id',how='left')\n",
    "event_phone_gender_merge.count()\n"
   ]
  },
  {
   "cell_type": "code",
   "execution_count": 592,
   "metadata": {},
   "outputs": [
    {
     "data": {
      "text/plain": [
       "event_id                  0\n",
       "device_id                 0\n",
       "timestamp                 0\n",
       "longitude                 0\n",
       "latitude                  0\n",
       "city                      0\n",
       "state                     0\n",
       "Event_Date                0\n",
       "phone_brand         3244095\n",
       "device_model        3244095\n",
       "gender              3244095\n",
       "age                 3244095\n",
       "group               3244095\n",
       "agegroup_by_name    3244095\n",
       "dtype: int64"
      ]
     },
     "execution_count": 592,
     "metadata": {},
     "output_type": "execute_result"
    }
   ],
   "source": [
    "event_phone_gender_merge.isnull().sum()"
   ]
  },
  {
   "cell_type": "code",
   "execution_count": null,
   "metadata": {},
   "outputs": [],
   "source": [
    "#df = pd.merge(df_temp, events_data, on='device_id', how='outer')\n",
    "#df.head(10)"
   ]
  }
 ],
 "metadata": {
  "kernelspec": {
   "display_name": "Python 3",
   "language": "python",
   "name": "python3"
  },
  "language_info": {
   "codemirror_mode": {
    "name": "ipython",
    "version": 3
   },
   "file_extension": ".py",
   "mimetype": "text/x-python",
   "name": "python",
   "nbconvert_exporter": "python",
   "pygments_lexer": "ipython3",
   "version": "3.7.6"
  }
 },
 "nbformat": 4,
 "nbformat_minor": 2
}
